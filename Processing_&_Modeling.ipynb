{
 "cells": [
  {
   "cell_type": "markdown",
   "metadata": {
    "colab_type": "text",
    "id": "view-in-github"
   },
   "source": [
    "[View in Colaboratory](https://colab.research.google.com/github/evergou/TitanicML/blob/master/Processing_&_Modeling.ipynb)"
   ]
  },
  {
   "cell_type": "markdown",
   "metadata": {
    "colab_type": "text",
    "id": "ins2Og0nCAEf"
   },
   "source": [
    "# Processing the data"
   ]
  },
  {
   "cell_type": "code",
   "execution_count": 1,
   "metadata": {
    "colab": {},
    "colab_type": "code",
    "collapsed": true,
    "id": "kfmNecaguqRs"
   },
   "outputs": [
    {
     "name": "stderr",
     "output_type": "stream",
     "text": [
      "fatal: destination path 'facets' already exists and is not an empty directory.\n"
     ]
    }
   ],
   "source": [
    "!git clone https://github.com/pair-code/facets.git"
   ]
  },
  {
   "cell_type": "code",
   "execution_count": 2,
   "metadata": {
    "collapsed": true
   },
   "outputs": [
    {
     "name": "stdout",
     "output_type": "stream",
     "text": [
      "Requirement already satisfied: numpy==1.14.5 in c:\\users\\home\\anaconda3\\lib\\site-packages (1.14.5)\n"
     ]
    }
   ],
   "source": [
    "!pip install numpy==1.14.5"
   ]
  },
  {
   "cell_type": "code",
   "execution_count": 3,
   "metadata": {
    "colab": {},
    "colab_type": "code",
    "collapsed": true,
    "id": "wpvs6RGo0aLh"
   },
   "outputs": [],
   "source": [
    "import pandas as pd\n",
    "import numpy as np\n",
    "import matplotlib.pyplot as plt\n",
    "import seaborn as sns\n",
    "import sklearn\n",
    "import os\n",
    "from sklearn.neighbors import KNeighborsClassifier\n",
    "from sklearn.model_selection import train_test_split\n",
    "from sklearn.feature_selection import VarianceThreshold\n",
    "from mpl_toolkits.mplot3d import Axes3D\n",
    "from matplotlib.colors import ListedColormap\n",
    "from IPython.display import display, HTML\n",
    "from sklearn.metrics import recall_score, roc_auc_score, precision_score, accuracy_score, confusion_matrix, classification_report\n",
    "pd.set_option(\"display.max_colwidth\",100)\n",
    "%matplotlib inline\n",
    "SEED = 44"
   ]
  },
  {
   "cell_type": "code",
   "execution_count": 4,
   "metadata": {
    "colab": {},
    "colab_type": "code",
    "collapsed": true,
    "id": "ZJ3yu5ou08Id"
   },
   "outputs": [],
   "source": [
    "train = pd.read_csv(r\"Data/train.csv\", index_col = 0)\n",
    "test = pd.read_csv(r\"Data/test.csv\", index_col = 0)"
   ]
  },
  {
   "cell_type": "code",
   "execution_count": 5,
   "metadata": {
    "colab": {},
    "colab_type": "code",
    "collapsed": true,
    "id": "43Ia6pXM4Ri5"
   },
   "outputs": [],
   "source": [
    "train.Cabin.fillna(0,inplace=True)\n",
    "test.Cabin.fillna(0,inplace=True)\n",
    "train[\"CabinCode\"] = train.Cabin.apply(lambda x: str(x)[0])\n",
    "test[\"CabinCode\"] = test.Cabin.apply(lambda x: str(x)[0])"
   ]
  },
  {
   "cell_type": "code",
   "execution_count": 6,
   "metadata": {
    "colab": {},
    "colab_type": "code",
    "collapsed": true,
    "id": "M2jYkzZQ2ImN"
   },
   "outputs": [],
   "source": [
    "train.Age.fillna(train.Age.mean(),inplace=True)\n",
    "train.Embarked.fillna(train.Embarked.mode()[0],inplace=True)\n",
    "train[\"Sex\"],a = train.Sex.factorize()\n",
    "del(a)"
   ]
  },
  {
   "cell_type": "code",
   "execution_count": 7,
   "metadata": {
    "colab": {},
    "colab_type": "code",
    "collapsed": true,
    "id": "vgt25GpZ7Lv7"
   },
   "outputs": [],
   "source": [
    "train = train.join(train.groupby(\"Ticket\").Survived.sum()>1, how=\"left\", on=\"Ticket\", rsuffix=\"_in_the_party\")"
   ]
  },
  {
   "cell_type": "code",
   "execution_count": 8,
   "metadata": {
    "colab": {},
    "colab_type": "code",
    "id": "t-3I2LN1u21s"
   },
   "outputs": [
    {
     "data": {
      "text/html": [
       "<link rel=\"import\" href=\"https://raw.githubusercontent.com/PAIR-code/facets/master/facets-dist/facets-jupyter.html\">\n",
       "        <facets-dive id=\"elem\" height=\"600\"></facets-dive>\n",
       "        <script>\n",
       "          var data = [{\"Pclass\":3,\"Name\":\"Kelly, Mr. James\",\"Sex\":\"male\",\"Age\":34.5,\"SibSp\":0,\"Parch\":0,\"Ticket\":\"330911\",\"Fare\":7.8292,\"Cabin\":0,\"Embarked\":\"Q\",\"CabinCode\":\"0\"},{\"Pclass\":3,\"Name\":\"Wilkes, Mrs. James (Ellen Needs)\",\"Sex\":\"female\",\"Age\":47.0,\"SibSp\":1,\"Parch\":0,\"Ticket\":\"363272\",\"Fare\":7.0,\"Cabin\":0,\"Embarked\":\"S\",\"CabinCode\":\"0\"},{\"Pclass\":2,\"Name\":\"Myles, Mr. Thomas Francis\",\"Sex\":\"male\",\"Age\":62.0,\"SibSp\":0,\"Parch\":0,\"Ticket\":\"240276\",\"Fare\":9.6875,\"Cabin\":0,\"Embarked\":\"Q\",\"CabinCode\":\"0\"},{\"Pclass\":3,\"Name\":\"Wirz, Mr. Albert\",\"Sex\":\"male\",\"Age\":27.0,\"SibSp\":0,\"Parch\":0,\"Ticket\":\"315154\",\"Fare\":8.6625,\"Cabin\":0,\"Embarked\":\"S\",\"CabinCode\":\"0\"},{\"Pclass\":3,\"Name\":\"Hirvonen, Mrs. Alexander (Helga E Lindqvist)\",\"Sex\":\"female\",\"Age\":22.0,\"SibSp\":1,\"Parch\":1,\"Ticket\":\"3101298\",\"Fare\":12.2875,\"Cabin\":0,\"Embarked\":\"S\",\"CabinCode\":\"0\"},{\"Pclass\":3,\"Name\":\"Svensson, Mr. Johan Cervin\",\"Sex\":\"male\",\"Age\":14.0,\"SibSp\":0,\"Parch\":0,\"Ticket\":\"7538\",\"Fare\":9.225,\"Cabin\":0,\"Embarked\":\"S\",\"CabinCode\":\"0\"},{\"Pclass\":3,\"Name\":\"Connolly, Miss. Kate\",\"Sex\":\"female\",\"Age\":30.0,\"SibSp\":0,\"Parch\":0,\"Ticket\":\"330972\",\"Fare\":7.6292,\"Cabin\":0,\"Embarked\":\"Q\",\"CabinCode\":\"0\"},{\"Pclass\":2,\"Name\":\"Caldwell, Mr. Albert Francis\",\"Sex\":\"male\",\"Age\":26.0,\"SibSp\":1,\"Parch\":1,\"Ticket\":\"248738\",\"Fare\":29.0,\"Cabin\":0,\"Embarked\":\"S\",\"CabinCode\":\"0\"},{\"Pclass\":3,\"Name\":\"Abrahim, Mrs. Joseph (Sophie Halaut Easu)\",\"Sex\":\"female\",\"Age\":18.0,\"SibSp\":0,\"Parch\":0,\"Ticket\":\"2657\",\"Fare\":7.2292,\"Cabin\":0,\"Embarked\":\"C\",\"CabinCode\":\"0\"},{\"Pclass\":3,\"Name\":\"Davies, Mr. John Samuel\",\"Sex\":\"male\",\"Age\":21.0,\"SibSp\":2,\"Parch\":0,\"Ticket\":\"A\\/4 48871\",\"Fare\":24.15,\"Cabin\":0,\"Embarked\":\"S\",\"CabinCode\":\"0\"},{\"Pclass\":3,\"Name\":\"Ilieff, Mr. Ylio\",\"Sex\":\"male\",\"Age\":null,\"SibSp\":0,\"Parch\":0,\"Ticket\":\"349220\",\"Fare\":7.8958,\"Cabin\":0,\"Embarked\":\"S\",\"CabinCode\":\"0\"},{\"Pclass\":1,\"Name\":\"Jones, Mr. Charles Cresson\",\"Sex\":\"male\",\"Age\":46.0,\"SibSp\":0,\"Parch\":0,\"Ticket\":\"694\",\"Fare\":26.0,\"Cabin\":0,\"Embarked\":\"S\",\"CabinCode\":\"0\"},{\"Pclass\":1,\"Name\":\"Snyder, Mrs. John Pillsbury (Nelle Stevenson)\",\"Sex\":\"female\",\"Age\":23.0,\"SibSp\":1,\"Parch\":0,\"Ticket\":\"21228\",\"Fare\":82.2667,\"Cabin\":\"B45\",\"Embarked\":\"S\",\"CabinCode\":\"B\"},{\"Pclass\":2,\"Name\":\"Howard, Mr. Benjamin\",\"Sex\":\"male\",\"Age\":63.0,\"SibSp\":1,\"Parch\":0,\"Ticket\":\"24065\",\"Fare\":26.0,\"Cabin\":0,\"Embarked\":\"S\",\"CabinCode\":\"0\"},{\"Pclass\":1,\"Name\":\"Chaffee, Mrs. Herbert Fuller (Carrie Constance Toogood)\",\"Sex\":\"female\",\"Age\":47.0,\"SibSp\":1,\"Parch\":0,\"Ticket\":\"W.E.P. 5734\",\"Fare\":61.175,\"Cabin\":\"E31\",\"Embarked\":\"S\",\"CabinCode\":\"E\"},{\"Pclass\":2,\"Name\":\"del Carlo, Mrs. Sebastiano (Argenia Genovesi)\",\"Sex\":\"female\",\"Age\":24.0,\"SibSp\":1,\"Parch\":0,\"Ticket\":\"SC\\/PARIS 2167\",\"Fare\":27.7208,\"Cabin\":0,\"Embarked\":\"C\",\"CabinCode\":\"0\"},{\"Pclass\":2,\"Name\":\"Keane, Mr. Daniel\",\"Sex\":\"male\",\"Age\":35.0,\"SibSp\":0,\"Parch\":0,\"Ticket\":\"233734\",\"Fare\":12.35,\"Cabin\":0,\"Embarked\":\"Q\",\"CabinCode\":\"0\"},{\"Pclass\":3,\"Name\":\"Assaf, Mr. Gerios\",\"Sex\":\"male\",\"Age\":21.0,\"SibSp\":0,\"Parch\":0,\"Ticket\":\"2692\",\"Fare\":7.225,\"Cabin\":0,\"Embarked\":\"C\",\"CabinCode\":\"0\"},{\"Pclass\":3,\"Name\":\"Ilmakangas, Miss. Ida Livija\",\"Sex\":\"female\",\"Age\":27.0,\"SibSp\":1,\"Parch\":0,\"Ticket\":\"STON\\/O2. 3101270\",\"Fare\":7.925,\"Cabin\":0,\"Embarked\":\"S\",\"CabinCode\":\"0\"},{\"Pclass\":3,\"Name\":\"Assaf Khalil, Mrs. Mariana (Miriam\\\")\\\"\",\"Sex\":\"female\",\"Age\":45.0,\"SibSp\":0,\"Parch\":0,\"Ticket\":\"2696\",\"Fare\":7.225,\"Cabin\":0,\"Embarked\":\"C\",\"CabinCode\":\"0\"},{\"Pclass\":1,\"Name\":\"Rothschild, Mr. Martin\",\"Sex\":\"male\",\"Age\":55.0,\"SibSp\":1,\"Parch\":0,\"Ticket\":\"PC 17603\",\"Fare\":59.4,\"Cabin\":0,\"Embarked\":\"C\",\"CabinCode\":\"0\"},{\"Pclass\":3,\"Name\":\"Olsen, Master. Artur Karl\",\"Sex\":\"male\",\"Age\":9.0,\"SibSp\":0,\"Parch\":1,\"Ticket\":\"C 17368\",\"Fare\":3.1708,\"Cabin\":0,\"Embarked\":\"S\",\"CabinCode\":\"0\"},{\"Pclass\":1,\"Name\":\"Flegenheim, Mrs. Alfred (Antoinette)\",\"Sex\":\"female\",\"Age\":null,\"SibSp\":0,\"Parch\":0,\"Ticket\":\"PC 17598\",\"Fare\":31.6833,\"Cabin\":0,\"Embarked\":\"S\",\"CabinCode\":\"0\"},{\"Pclass\":1,\"Name\":\"Williams, Mr. Richard Norris II\",\"Sex\":\"male\",\"Age\":21.0,\"SibSp\":0,\"Parch\":1,\"Ticket\":\"PC 17597\",\"Fare\":61.3792,\"Cabin\":0,\"Embarked\":\"C\",\"CabinCode\":\"0\"},{\"Pclass\":1,\"Name\":\"Ryerson, Mrs. Arthur Larned (Emily Maria Borie)\",\"Sex\":\"female\",\"Age\":48.0,\"SibSp\":1,\"Parch\":3,\"Ticket\":\"PC 17608\",\"Fare\":262.375,\"Cabin\":\"B57 B59 B63 B66\",\"Embarked\":\"C\",\"CabinCode\":\"B\"},{\"Pclass\":3,\"Name\":\"Robins, Mr. Alexander A\",\"Sex\":\"male\",\"Age\":50.0,\"SibSp\":1,\"Parch\":0,\"Ticket\":\"A\\/5. 3337\",\"Fare\":14.5,\"Cabin\":0,\"Embarked\":\"S\",\"CabinCode\":\"0\"},{\"Pclass\":1,\"Name\":\"Ostby, Miss. Helene Ragnhild\",\"Sex\":\"female\",\"Age\":22.0,\"SibSp\":0,\"Parch\":1,\"Ticket\":\"113509\",\"Fare\":61.9792,\"Cabin\":\"B36\",\"Embarked\":\"C\",\"CabinCode\":\"B\"},{\"Pclass\":3,\"Name\":\"Daher, Mr. Shedid\",\"Sex\":\"male\",\"Age\":22.5,\"SibSp\":0,\"Parch\":0,\"Ticket\":\"2698\",\"Fare\":7.225,\"Cabin\":0,\"Embarked\":\"C\",\"CabinCode\":\"0\"},{\"Pclass\":1,\"Name\":\"Brady, Mr. John Bertram\",\"Sex\":\"male\",\"Age\":41.0,\"SibSp\":0,\"Parch\":0,\"Ticket\":\"113054\",\"Fare\":30.5,\"Cabin\":\"A21\",\"Embarked\":\"S\",\"CabinCode\":\"A\"},{\"Pclass\":3,\"Name\":\"Samaan, Mr. Elias\",\"Sex\":\"male\",\"Age\":null,\"SibSp\":2,\"Parch\":0,\"Ticket\":\"2662\",\"Fare\":21.6792,\"Cabin\":0,\"Embarked\":\"C\",\"CabinCode\":\"0\"},{\"Pclass\":2,\"Name\":\"Louch, Mr. Charles Alexander\",\"Sex\":\"male\",\"Age\":50.0,\"SibSp\":1,\"Parch\":0,\"Ticket\":\"SC\\/AH 3085\",\"Fare\":26.0,\"Cabin\":0,\"Embarked\":\"S\",\"CabinCode\":\"0\"},{\"Pclass\":2,\"Name\":\"Jefferys, Mr. Clifford Thomas\",\"Sex\":\"male\",\"Age\":24.0,\"SibSp\":2,\"Parch\":0,\"Ticket\":\"C.A. 31029\",\"Fare\":31.5,\"Cabin\":0,\"Embarked\":\"S\",\"CabinCode\":\"0\"},{\"Pclass\":3,\"Name\":\"Dean, Mrs. Bertram (Eva Georgetta Light)\",\"Sex\":\"female\",\"Age\":33.0,\"SibSp\":1,\"Parch\":2,\"Ticket\":\"C.A. 2315\",\"Fare\":20.575,\"Cabin\":0,\"Embarked\":\"S\",\"CabinCode\":\"0\"},{\"Pclass\":3,\"Name\":\"Johnston, Mrs. Andrew G (Elizabeth Lily\\\" Watson)\\\"\",\"Sex\":\"female\",\"Age\":null,\"SibSp\":1,\"Parch\":2,\"Ticket\":\"W.\\/C. 6607\",\"Fare\":23.45,\"Cabin\":0,\"Embarked\":\"S\",\"CabinCode\":\"0\"},{\"Pclass\":1,\"Name\":\"Mock, Mr. Philipp Edmund\",\"Sex\":\"male\",\"Age\":30.0,\"SibSp\":1,\"Parch\":0,\"Ticket\":\"13236\",\"Fare\":57.75,\"Cabin\":\"C78\",\"Embarked\":\"C\",\"CabinCode\":\"C\"},{\"Pclass\":3,\"Name\":\"Katavelas, Mr. Vassilios (Catavelas Vassilios\\\")\\\"\",\"Sex\":\"male\",\"Age\":18.5,\"SibSp\":0,\"Parch\":0,\"Ticket\":\"2682\",\"Fare\":7.2292,\"Cabin\":0,\"Embarked\":\"C\",\"CabinCode\":\"0\"},{\"Pclass\":3,\"Name\":\"Roth, Miss. Sarah A\",\"Sex\":\"female\",\"Age\":null,\"SibSp\":0,\"Parch\":0,\"Ticket\":\"342712\",\"Fare\":8.05,\"Cabin\":0,\"Embarked\":\"S\",\"CabinCode\":\"0\"},{\"Pclass\":3,\"Name\":\"Cacic, Miss. Manda\",\"Sex\":\"female\",\"Age\":21.0,\"SibSp\":0,\"Parch\":0,\"Ticket\":\"315087\",\"Fare\":8.6625,\"Cabin\":0,\"Embarked\":\"S\",\"CabinCode\":\"0\"},{\"Pclass\":3,\"Name\":\"Sap, Mr. Julius\",\"Sex\":\"male\",\"Age\":25.0,\"SibSp\":0,\"Parch\":0,\"Ticket\":\"345768\",\"Fare\":9.5,\"Cabin\":0,\"Embarked\":\"S\",\"CabinCode\":\"0\"},{\"Pclass\":3,\"Name\":\"Hee, Mr. Ling\",\"Sex\":\"male\",\"Age\":null,\"SibSp\":0,\"Parch\":0,\"Ticket\":\"1601\",\"Fare\":56.4958,\"Cabin\":0,\"Embarked\":\"S\",\"CabinCode\":\"0\"},{\"Pclass\":3,\"Name\":\"Karun, Mr. Franz\",\"Sex\":\"male\",\"Age\":39.0,\"SibSp\":0,\"Parch\":1,\"Ticket\":\"349256\",\"Fare\":13.4167,\"Cabin\":0,\"Embarked\":\"C\",\"CabinCode\":\"0\"},{\"Pclass\":1,\"Name\":\"Franklin, Mr. Thomas Parham\",\"Sex\":\"male\",\"Age\":null,\"SibSp\":0,\"Parch\":0,\"Ticket\":\"113778\",\"Fare\":26.55,\"Cabin\":\"D34\",\"Embarked\":\"S\",\"CabinCode\":\"D\"},{\"Pclass\":3,\"Name\":\"Goldsmith, Mr. Nathan\",\"Sex\":\"male\",\"Age\":41.0,\"SibSp\":0,\"Parch\":0,\"Ticket\":\"SOTON\\/O.Q. 3101263\",\"Fare\":7.85,\"Cabin\":0,\"Embarked\":\"S\",\"CabinCode\":\"0\"},{\"Pclass\":2,\"Name\":\"Corbett, Mrs. Walter H (Irene Colvin)\",\"Sex\":\"female\",\"Age\":30.0,\"SibSp\":0,\"Parch\":0,\"Ticket\":\"237249\",\"Fare\":13.0,\"Cabin\":0,\"Embarked\":\"S\",\"CabinCode\":\"0\"},{\"Pclass\":1,\"Name\":\"Kimball, Mrs. Edwin Nelson Jr (Gertrude Parsons)\",\"Sex\":\"female\",\"Age\":45.0,\"SibSp\":1,\"Parch\":0,\"Ticket\":\"11753\",\"Fare\":52.5542,\"Cabin\":\"D19\",\"Embarked\":\"S\",\"CabinCode\":\"D\"},{\"Pclass\":3,\"Name\":\"Peltomaki, Mr. Nikolai Johannes\",\"Sex\":\"male\",\"Age\":25.0,\"SibSp\":0,\"Parch\":0,\"Ticket\":\"STON\\/O 2. 3101291\",\"Fare\":7.925,\"Cabin\":0,\"Embarked\":\"S\",\"CabinCode\":\"0\"},{\"Pclass\":1,\"Name\":\"Chevre, Mr. Paul Romaine\",\"Sex\":\"male\",\"Age\":45.0,\"SibSp\":0,\"Parch\":0,\"Ticket\":\"PC 17594\",\"Fare\":29.7,\"Cabin\":\"A9\",\"Embarked\":\"C\",\"CabinCode\":\"A\"},{\"Pclass\":3,\"Name\":\"Shaughnessy, Mr. Patrick\",\"Sex\":\"male\",\"Age\":null,\"SibSp\":0,\"Parch\":0,\"Ticket\":\"370374\",\"Fare\":7.75,\"Cabin\":0,\"Embarked\":\"Q\",\"CabinCode\":\"0\"},{\"Pclass\":1,\"Name\":\"Bucknell, Mrs. William Robert (Emma Eliza Ward)\",\"Sex\":\"female\",\"Age\":60.0,\"SibSp\":0,\"Parch\":0,\"Ticket\":\"11813\",\"Fare\":76.2917,\"Cabin\":\"D15\",\"Embarked\":\"C\",\"CabinCode\":\"D\"},{\"Pclass\":3,\"Name\":\"Coutts, Mrs. William (Winnie Minnie\\\" Treanor)\\\"\",\"Sex\":\"female\",\"Age\":36.0,\"SibSp\":0,\"Parch\":2,\"Ticket\":\"C.A. 37671\",\"Fare\":15.9,\"Cabin\":0,\"Embarked\":\"S\",\"CabinCode\":\"0\"},{\"Pclass\":1,\"Name\":\"Smith, Mr. Lucien Philip\",\"Sex\":\"male\",\"Age\":24.0,\"SibSp\":1,\"Parch\":0,\"Ticket\":\"13695\",\"Fare\":60.0,\"Cabin\":\"C31\",\"Embarked\":\"S\",\"CabinCode\":\"C\"},{\"Pclass\":2,\"Name\":\"Pulbaum, Mr. Franz\",\"Sex\":\"male\",\"Age\":27.0,\"SibSp\":0,\"Parch\":0,\"Ticket\":\"SC\\/PARIS 2168\",\"Fare\":15.0333,\"Cabin\":0,\"Embarked\":\"C\",\"CabinCode\":\"0\"},{\"Pclass\":2,\"Name\":\"Hocking, Miss. Ellen Nellie\\\"\\\"\",\"Sex\":\"female\",\"Age\":20.0,\"SibSp\":2,\"Parch\":1,\"Ticket\":\"29105\",\"Fare\":23.0,\"Cabin\":0,\"Embarked\":\"S\",\"CabinCode\":\"0\"},{\"Pclass\":1,\"Name\":\"Fortune, Miss. Ethel Flora\",\"Sex\":\"female\",\"Age\":28.0,\"SibSp\":3,\"Parch\":2,\"Ticket\":\"19950\",\"Fare\":263.0,\"Cabin\":\"C23 C25 C27\",\"Embarked\":\"S\",\"CabinCode\":\"C\"},{\"Pclass\":2,\"Name\":\"Mangiavacchi, Mr. Serafino Emilio\",\"Sex\":\"male\",\"Age\":null,\"SibSp\":0,\"Parch\":0,\"Ticket\":\"SC\\/A.3 2861\",\"Fare\":15.5792,\"Cabin\":0,\"Embarked\":\"C\",\"CabinCode\":\"0\"},{\"Pclass\":3,\"Name\":\"Rice, Master. Albert\",\"Sex\":\"male\",\"Age\":10.0,\"SibSp\":4,\"Parch\":1,\"Ticket\":\"382652\",\"Fare\":29.125,\"Cabin\":0,\"Embarked\":\"Q\",\"CabinCode\":\"0\"},{\"Pclass\":3,\"Name\":\"Cor, Mr. Bartol\",\"Sex\":\"male\",\"Age\":35.0,\"SibSp\":0,\"Parch\":0,\"Ticket\":\"349230\",\"Fare\":7.8958,\"Cabin\":0,\"Embarked\":\"S\",\"CabinCode\":\"0\"},{\"Pclass\":3,\"Name\":\"Abelseth, Mr. Olaus Jorgensen\",\"Sex\":\"male\",\"Age\":25.0,\"SibSp\":0,\"Parch\":0,\"Ticket\":\"348122\",\"Fare\":7.65,\"Cabin\":\"F G63\",\"Embarked\":\"S\",\"CabinCode\":\"F\"},{\"Pclass\":3,\"Name\":\"Davison, Mr. Thomas Henry\",\"Sex\":\"male\",\"Age\":null,\"SibSp\":1,\"Parch\":0,\"Ticket\":\"386525\",\"Fare\":16.1,\"Cabin\":0,\"Embarked\":\"S\",\"CabinCode\":\"0\"},{\"Pclass\":1,\"Name\":\"Chaudanson, Miss. Victorine\",\"Sex\":\"female\",\"Age\":36.0,\"SibSp\":0,\"Parch\":0,\"Ticket\":\"PC 17608\",\"Fare\":262.375,\"Cabin\":\"B61\",\"Embarked\":\"C\",\"CabinCode\":\"B\"},{\"Pclass\":3,\"Name\":\"Dika, Mr. Mirko\",\"Sex\":\"male\",\"Age\":17.0,\"SibSp\":0,\"Parch\":0,\"Ticket\":\"349232\",\"Fare\":7.8958,\"Cabin\":0,\"Embarked\":\"S\",\"CabinCode\":\"0\"},{\"Pclass\":2,\"Name\":\"McCrae, Mr. Arthur Gordon\",\"Sex\":\"male\",\"Age\":32.0,\"SibSp\":0,\"Parch\":0,\"Ticket\":\"237216\",\"Fare\":13.5,\"Cabin\":0,\"Embarked\":\"S\",\"CabinCode\":\"0\"},{\"Pclass\":3,\"Name\":\"Bjorklund, Mr. Ernst Herbert\",\"Sex\":\"male\",\"Age\":18.0,\"SibSp\":0,\"Parch\":0,\"Ticket\":\"347090\",\"Fare\":7.75,\"Cabin\":0,\"Embarked\":\"S\",\"CabinCode\":\"0\"},{\"Pclass\":3,\"Name\":\"Bradley, Miss. Bridget Delia\",\"Sex\":\"female\",\"Age\":22.0,\"SibSp\":0,\"Parch\":0,\"Ticket\":\"334914\",\"Fare\":7.725,\"Cabin\":0,\"Embarked\":\"Q\",\"CabinCode\":\"0\"},{\"Pclass\":1,\"Name\":\"Ryerson, Master. John Borie\",\"Sex\":\"male\",\"Age\":13.0,\"SibSp\":2,\"Parch\":2,\"Ticket\":\"PC 17608\",\"Fare\":262.375,\"Cabin\":\"B57 B59 B63 B66\",\"Embarked\":\"C\",\"CabinCode\":\"B\"},{\"Pclass\":2,\"Name\":\"Corey, Mrs. Percy C (Mary Phyllis Elizabeth Miller)\",\"Sex\":\"female\",\"Age\":null,\"SibSp\":0,\"Parch\":0,\"Ticket\":\"F.C.C. 13534\",\"Fare\":21.0,\"Cabin\":0,\"Embarked\":\"S\",\"CabinCode\":\"0\"},{\"Pclass\":3,\"Name\":\"Burns, Miss. Mary Delia\",\"Sex\":\"female\",\"Age\":18.0,\"SibSp\":0,\"Parch\":0,\"Ticket\":\"330963\",\"Fare\":7.8792,\"Cabin\":0,\"Embarked\":\"Q\",\"CabinCode\":\"0\"},{\"Pclass\":1,\"Name\":\"Moore, Mr. Clarence Bloomfield\",\"Sex\":\"male\",\"Age\":47.0,\"SibSp\":0,\"Parch\":0,\"Ticket\":\"113796\",\"Fare\":42.4,\"Cabin\":0,\"Embarked\":\"S\",\"CabinCode\":\"0\"},{\"Pclass\":1,\"Name\":\"Tucker, Mr. Gilbert Milligan Jr\",\"Sex\":\"male\",\"Age\":31.0,\"SibSp\":0,\"Parch\":0,\"Ticket\":\"2543\",\"Fare\":28.5375,\"Cabin\":\"C53\",\"Embarked\":\"C\",\"CabinCode\":\"C\"},{\"Pclass\":1,\"Name\":\"Fortune, Mrs. Mark (Mary McDougald)\",\"Sex\":\"female\",\"Age\":60.0,\"SibSp\":1,\"Parch\":4,\"Ticket\":\"19950\",\"Fare\":263.0,\"Cabin\":\"C23 C25 C27\",\"Embarked\":\"S\",\"CabinCode\":\"C\"},{\"Pclass\":3,\"Name\":\"Mulvihill, Miss. Bertha E\",\"Sex\":\"female\",\"Age\":24.0,\"SibSp\":0,\"Parch\":0,\"Ticket\":\"382653\",\"Fare\":7.75,\"Cabin\":0,\"Embarked\":\"Q\",\"CabinCode\":\"0\"},{\"Pclass\":3,\"Name\":\"Minkoff, Mr. Lazar\",\"Sex\":\"male\",\"Age\":21.0,\"SibSp\":0,\"Parch\":0,\"Ticket\":\"349211\",\"Fare\":7.8958,\"Cabin\":0,\"Embarked\":\"S\",\"CabinCode\":\"0\"},{\"Pclass\":3,\"Name\":\"Nieminen, Miss. Manta Josefina\",\"Sex\":\"female\",\"Age\":29.0,\"SibSp\":0,\"Parch\":0,\"Ticket\":\"3101297\",\"Fare\":7.925,\"Cabin\":0,\"Embarked\":\"S\",\"CabinCode\":\"0\"},{\"Pclass\":1,\"Name\":\"Ovies y Rodriguez, Mr. Servando\",\"Sex\":\"male\",\"Age\":28.5,\"SibSp\":0,\"Parch\":0,\"Ticket\":\"PC 17562\",\"Fare\":27.7208,\"Cabin\":\"D43\",\"Embarked\":\"C\",\"CabinCode\":\"D\"},{\"Pclass\":1,\"Name\":\"Geiger, Miss. Amalie\",\"Sex\":\"female\",\"Age\":35.0,\"SibSp\":0,\"Parch\":0,\"Ticket\":\"113503\",\"Fare\":211.5,\"Cabin\":\"C130\",\"Embarked\":\"C\",\"CabinCode\":\"C\"},{\"Pclass\":1,\"Name\":\"Keeping, Mr. Edwin\",\"Sex\":\"male\",\"Age\":32.5,\"SibSp\":0,\"Parch\":0,\"Ticket\":\"113503\",\"Fare\":211.5,\"Cabin\":\"C132\",\"Embarked\":\"C\",\"CabinCode\":\"C\"},{\"Pclass\":3,\"Name\":\"Miles, Mr. Frank\",\"Sex\":\"male\",\"Age\":null,\"SibSp\":0,\"Parch\":0,\"Ticket\":\"359306\",\"Fare\":8.05,\"Cabin\":0,\"Embarked\":\"S\",\"CabinCode\":\"0\"},{\"Pclass\":1,\"Name\":\"Cornell, Mrs. Robert Clifford (Malvina Helen Lamson)\",\"Sex\":\"female\",\"Age\":55.0,\"SibSp\":2,\"Parch\":0,\"Ticket\":\"11770\",\"Fare\":25.7,\"Cabin\":\"C101\",\"Embarked\":\"S\",\"CabinCode\":\"C\"},{\"Pclass\":2,\"Name\":\"Aldworth, Mr. Charles Augustus\",\"Sex\":\"male\",\"Age\":30.0,\"SibSp\":0,\"Parch\":0,\"Ticket\":\"248744\",\"Fare\":13.0,\"Cabin\":0,\"Embarked\":\"S\",\"CabinCode\":\"0\"},{\"Pclass\":3,\"Name\":\"Doyle, Miss. Elizabeth\",\"Sex\":\"female\",\"Age\":24.0,\"SibSp\":0,\"Parch\":0,\"Ticket\":\"368702\",\"Fare\":7.75,\"Cabin\":0,\"Embarked\":\"Q\",\"CabinCode\":\"0\"},{\"Pclass\":3,\"Name\":\"Boulos, Master. Akar\",\"Sex\":\"male\",\"Age\":6.0,\"SibSp\":1,\"Parch\":1,\"Ticket\":\"2678\",\"Fare\":15.2458,\"Cabin\":0,\"Embarked\":\"C\",\"CabinCode\":\"0\"},{\"Pclass\":1,\"Name\":\"Straus, Mr. Isidor\",\"Sex\":\"male\",\"Age\":67.0,\"SibSp\":1,\"Parch\":0,\"Ticket\":\"PC 17483\",\"Fare\":221.7792,\"Cabin\":\"C55 C57\",\"Embarked\":\"S\",\"CabinCode\":\"C\"},{\"Pclass\":1,\"Name\":\"Case, Mr. Howard Brown\",\"Sex\":\"male\",\"Age\":49.0,\"SibSp\":0,\"Parch\":0,\"Ticket\":\"19924\",\"Fare\":26.0,\"Cabin\":0,\"Embarked\":\"S\",\"CabinCode\":\"0\"},{\"Pclass\":3,\"Name\":\"Demetri, Mr. Marinko\",\"Sex\":\"male\",\"Age\":null,\"SibSp\":0,\"Parch\":0,\"Ticket\":\"349238\",\"Fare\":7.8958,\"Cabin\":0,\"Embarked\":\"S\",\"CabinCode\":\"0\"},{\"Pclass\":2,\"Name\":\"Lamb, Mr. John Joseph\",\"Sex\":\"male\",\"Age\":null,\"SibSp\":0,\"Parch\":0,\"Ticket\":\"240261\",\"Fare\":10.7083,\"Cabin\":0,\"Embarked\":\"Q\",\"CabinCode\":\"0\"},{\"Pclass\":3,\"Name\":\"Khalil, Mr. Betros\",\"Sex\":\"male\",\"Age\":null,\"SibSp\":1,\"Parch\":0,\"Ticket\":\"2660\",\"Fare\":14.4542,\"Cabin\":0,\"Embarked\":\"C\",\"CabinCode\":\"0\"},{\"Pclass\":3,\"Name\":\"Barry, Miss. Julia\",\"Sex\":\"female\",\"Age\":27.0,\"SibSp\":0,\"Parch\":0,\"Ticket\":\"330844\",\"Fare\":7.8792,\"Cabin\":0,\"Embarked\":\"Q\",\"CabinCode\":\"0\"},{\"Pclass\":3,\"Name\":\"Badman, Miss. Emily Louisa\",\"Sex\":\"female\",\"Age\":18.0,\"SibSp\":0,\"Parch\":0,\"Ticket\":\"A\\/4 31416\",\"Fare\":8.05,\"Cabin\":0,\"Embarked\":\"S\",\"CabinCode\":\"0\"},{\"Pclass\":3,\"Name\":\"O'Donoghue, Ms. Bridget\",\"Sex\":\"female\",\"Age\":null,\"SibSp\":0,\"Parch\":0,\"Ticket\":\"364856\",\"Fare\":7.75,\"Cabin\":0,\"Embarked\":\"Q\",\"CabinCode\":\"0\"},{\"Pclass\":2,\"Name\":\"Wells, Master. Ralph Lester\",\"Sex\":\"male\",\"Age\":2.0,\"SibSp\":1,\"Parch\":1,\"Ticket\":\"29103\",\"Fare\":23.0,\"Cabin\":0,\"Embarked\":\"S\",\"CabinCode\":\"0\"},{\"Pclass\":3,\"Name\":\"Dyker, Mrs. Adolf Fredrik (Anna Elisabeth Judith Andersson)\",\"Sex\":\"female\",\"Age\":22.0,\"SibSp\":1,\"Parch\":0,\"Ticket\":\"347072\",\"Fare\":13.9,\"Cabin\":0,\"Embarked\":\"S\",\"CabinCode\":\"0\"},{\"Pclass\":3,\"Name\":\"Pedersen, Mr. Olaf\",\"Sex\":\"male\",\"Age\":null,\"SibSp\":0,\"Parch\":0,\"Ticket\":\"345498\",\"Fare\":7.775,\"Cabin\":0,\"Embarked\":\"S\",\"CabinCode\":\"0\"},{\"Pclass\":1,\"Name\":\"Davidson, Mrs. Thornton (Orian Hays)\",\"Sex\":\"female\",\"Age\":27.0,\"SibSp\":1,\"Parch\":2,\"Ticket\":\"F.C. 12750\",\"Fare\":52.0,\"Cabin\":\"B71\",\"Embarked\":\"S\",\"CabinCode\":\"B\"},{\"Pclass\":3,\"Name\":\"Guest, Mr. Robert\",\"Sex\":\"male\",\"Age\":null,\"SibSp\":0,\"Parch\":0,\"Ticket\":\"376563\",\"Fare\":8.05,\"Cabin\":0,\"Embarked\":\"S\",\"CabinCode\":\"0\"},{\"Pclass\":1,\"Name\":\"Birnbaum, Mr. Jakob\",\"Sex\":\"male\",\"Age\":25.0,\"SibSp\":0,\"Parch\":0,\"Ticket\":\"13905\",\"Fare\":26.0,\"Cabin\":0,\"Embarked\":\"C\",\"CabinCode\":\"0\"},{\"Pclass\":3,\"Name\":\"Tenglin, Mr. Gunnar Isidor\",\"Sex\":\"male\",\"Age\":25.0,\"SibSp\":0,\"Parch\":0,\"Ticket\":\"350033\",\"Fare\":7.7958,\"Cabin\":0,\"Embarked\":\"S\",\"CabinCode\":\"0\"},{\"Pclass\":1,\"Name\":\"Cavendish, Mrs. Tyrell William (Julia Florence Siegel)\",\"Sex\":\"female\",\"Age\":76.0,\"SibSp\":1,\"Parch\":0,\"Ticket\":\"19877\",\"Fare\":78.85,\"Cabin\":\"C46\",\"Embarked\":\"S\",\"CabinCode\":\"C\"},{\"Pclass\":3,\"Name\":\"Makinen, Mr. Kalle Edvard\",\"Sex\":\"male\",\"Age\":29.0,\"SibSp\":0,\"Parch\":0,\"Ticket\":\"STON\\/O 2. 3101268\",\"Fare\":7.925,\"Cabin\":0,\"Embarked\":\"S\",\"CabinCode\":\"0\"},{\"Pclass\":3,\"Name\":\"Braf, Miss. Elin Ester Maria\",\"Sex\":\"female\",\"Age\":20.0,\"SibSp\":0,\"Parch\":0,\"Ticket\":\"347471\",\"Fare\":7.8542,\"Cabin\":0,\"Embarked\":\"S\",\"CabinCode\":\"0\"},{\"Pclass\":3,\"Name\":\"Nancarrow, Mr. William Henry\",\"Sex\":\"male\",\"Age\":33.0,\"SibSp\":0,\"Parch\":0,\"Ticket\":\"A.\\/5. 3338\",\"Fare\":8.05,\"Cabin\":0,\"Embarked\":\"S\",\"CabinCode\":\"0\"},{\"Pclass\":1,\"Name\":\"Stengel, Mrs. Charles Emil Henry (Annie May Morris)\",\"Sex\":\"female\",\"Age\":43.0,\"SibSp\":1,\"Parch\":0,\"Ticket\":\"11778\",\"Fare\":55.4417,\"Cabin\":\"C116\",\"Embarked\":\"C\",\"CabinCode\":\"C\"},{\"Pclass\":2,\"Name\":\"Weisz, Mr. Leopold\",\"Sex\":\"male\",\"Age\":27.0,\"SibSp\":1,\"Parch\":0,\"Ticket\":\"228414\",\"Fare\":26.0,\"Cabin\":0,\"Embarked\":\"S\",\"CabinCode\":\"0\"},{\"Pclass\":3,\"Name\":\"Foley, Mr. William\",\"Sex\":\"male\",\"Age\":null,\"SibSp\":0,\"Parch\":0,\"Ticket\":\"365235\",\"Fare\":7.75,\"Cabin\":0,\"Embarked\":\"Q\",\"CabinCode\":\"0\"},{\"Pclass\":3,\"Name\":\"Johansson Palmquist, Mr. Oskar Leander\",\"Sex\":\"male\",\"Age\":26.0,\"SibSp\":0,\"Parch\":0,\"Ticket\":\"347070\",\"Fare\":7.775,\"Cabin\":0,\"Embarked\":\"S\",\"CabinCode\":\"0\"},{\"Pclass\":3,\"Name\":\"Thomas, Mrs. Alexander (Thamine Thelma\\\")\\\"\",\"Sex\":\"female\",\"Age\":16.0,\"SibSp\":1,\"Parch\":1,\"Ticket\":\"2625\",\"Fare\":8.5167,\"Cabin\":0,\"Embarked\":\"C\",\"CabinCode\":\"0\"},{\"Pclass\":3,\"Name\":\"Holthen, Mr. Johan Martin\",\"Sex\":\"male\",\"Age\":28.0,\"SibSp\":0,\"Parch\":0,\"Ticket\":\"C 4001\",\"Fare\":22.525,\"Cabin\":0,\"Embarked\":\"S\",\"CabinCode\":\"0\"},{\"Pclass\":3,\"Name\":\"Buckley, Mr. Daniel\",\"Sex\":\"male\",\"Age\":21.0,\"SibSp\":0,\"Parch\":0,\"Ticket\":\"330920\",\"Fare\":7.8208,\"Cabin\":0,\"Embarked\":\"Q\",\"CabinCode\":\"0\"},{\"Pclass\":3,\"Name\":\"Ryan, Mr. Edward\",\"Sex\":\"male\",\"Age\":null,\"SibSp\":0,\"Parch\":0,\"Ticket\":\"383162\",\"Fare\":7.75,\"Cabin\":0,\"Embarked\":\"Q\",\"CabinCode\":\"0\"},{\"Pclass\":3,\"Name\":\"Willer, Mr. Aaron (Abi Weller\\\")\\\"\",\"Sex\":\"male\",\"Age\":null,\"SibSp\":0,\"Parch\":0,\"Ticket\":\"3410\",\"Fare\":8.7125,\"Cabin\":0,\"Embarked\":\"S\",\"CabinCode\":\"0\"},{\"Pclass\":2,\"Name\":\"Swane, Mr. George\",\"Sex\":\"male\",\"Age\":18.5,\"SibSp\":0,\"Parch\":0,\"Ticket\":\"248734\",\"Fare\":13.0,\"Cabin\":\"F\",\"Embarked\":\"S\",\"CabinCode\":\"F\"},{\"Pclass\":2,\"Name\":\"Stanton, Mr. Samuel Ward\",\"Sex\":\"male\",\"Age\":41.0,\"SibSp\":0,\"Parch\":0,\"Ticket\":\"237734\",\"Fare\":15.0458,\"Cabin\":0,\"Embarked\":\"C\",\"CabinCode\":\"0\"},{\"Pclass\":3,\"Name\":\"Shine, Miss. Ellen Natalia\",\"Sex\":\"female\",\"Age\":null,\"SibSp\":0,\"Parch\":0,\"Ticket\":\"330968\",\"Fare\":7.7792,\"Cabin\":0,\"Embarked\":\"Q\",\"CabinCode\":\"0\"},{\"Pclass\":1,\"Name\":\"Evans, Miss. Edith Corse\",\"Sex\":\"female\",\"Age\":36.0,\"SibSp\":0,\"Parch\":0,\"Ticket\":\"PC 17531\",\"Fare\":31.6792,\"Cabin\":\"A29\",\"Embarked\":\"C\",\"CabinCode\":\"A\"},{\"Pclass\":3,\"Name\":\"Buckley, Miss. Katherine\",\"Sex\":\"female\",\"Age\":18.5,\"SibSp\":0,\"Parch\":0,\"Ticket\":\"329944\",\"Fare\":7.2833,\"Cabin\":0,\"Embarked\":\"Q\",\"CabinCode\":\"0\"},{\"Pclass\":1,\"Name\":\"Straus, Mrs. Isidor (Rosalie Ida Blun)\",\"Sex\":\"female\",\"Age\":63.0,\"SibSp\":1,\"Parch\":0,\"Ticket\":\"PC 17483\",\"Fare\":221.7792,\"Cabin\":\"C55 C57\",\"Embarked\":\"S\",\"CabinCode\":\"C\"},{\"Pclass\":3,\"Name\":\"Chronopoulos, Mr. Demetrios\",\"Sex\":\"male\",\"Age\":18.0,\"SibSp\":1,\"Parch\":0,\"Ticket\":\"2680\",\"Fare\":14.4542,\"Cabin\":0,\"Embarked\":\"C\",\"CabinCode\":\"0\"},{\"Pclass\":3,\"Name\":\"Thomas, Mr. John\",\"Sex\":\"male\",\"Age\":null,\"SibSp\":0,\"Parch\":0,\"Ticket\":\"2681\",\"Fare\":6.4375,\"Cabin\":0,\"Embarked\":\"C\",\"CabinCode\":\"0\"},{\"Pclass\":3,\"Name\":\"Sandstrom, Miss. Beatrice Irene\",\"Sex\":\"female\",\"Age\":1.0,\"SibSp\":1,\"Parch\":1,\"Ticket\":\"PP 9549\",\"Fare\":16.7,\"Cabin\":\"G6\",\"Embarked\":\"S\",\"CabinCode\":\"G\"},{\"Pclass\":1,\"Name\":\"Beattie, Mr. Thomson\",\"Sex\":\"male\",\"Age\":36.0,\"SibSp\":0,\"Parch\":0,\"Ticket\":\"13050\",\"Fare\":75.2417,\"Cabin\":\"C6\",\"Embarked\":\"C\",\"CabinCode\":\"C\"},{\"Pclass\":2,\"Name\":\"Chapman, Mrs. John Henry (Sara Elizabeth Lawry)\",\"Sex\":\"female\",\"Age\":29.0,\"SibSp\":1,\"Parch\":0,\"Ticket\":\"SC\\/AH 29037\",\"Fare\":26.0,\"Cabin\":0,\"Embarked\":\"S\",\"CabinCode\":\"0\"},{\"Pclass\":2,\"Name\":\"Watt, Miss. Bertha J\",\"Sex\":\"female\",\"Age\":12.0,\"SibSp\":0,\"Parch\":0,\"Ticket\":\"C.A. 33595\",\"Fare\":15.75,\"Cabin\":0,\"Embarked\":\"S\",\"CabinCode\":\"0\"},{\"Pclass\":3,\"Name\":\"Kiernan, Mr. John\",\"Sex\":\"male\",\"Age\":null,\"SibSp\":1,\"Parch\":0,\"Ticket\":\"367227\",\"Fare\":7.75,\"Cabin\":0,\"Embarked\":\"Q\",\"CabinCode\":\"0\"},{\"Pclass\":1,\"Name\":\"Schabert, Mrs. Paul (Emma Mock)\",\"Sex\":\"female\",\"Age\":35.0,\"SibSp\":1,\"Parch\":0,\"Ticket\":\"13236\",\"Fare\":57.75,\"Cabin\":\"C28\",\"Embarked\":\"C\",\"CabinCode\":\"C\"},{\"Pclass\":3,\"Name\":\"Carver, Mr. Alfred John\",\"Sex\":\"male\",\"Age\":28.0,\"SibSp\":0,\"Parch\":0,\"Ticket\":\"392095\",\"Fare\":7.25,\"Cabin\":0,\"Embarked\":\"S\",\"CabinCode\":\"0\"},{\"Pclass\":3,\"Name\":\"Kennedy, Mr. John\",\"Sex\":\"male\",\"Age\":null,\"SibSp\":0,\"Parch\":0,\"Ticket\":\"368783\",\"Fare\":7.75,\"Cabin\":0,\"Embarked\":\"Q\",\"CabinCode\":\"0\"},{\"Pclass\":3,\"Name\":\"Cribb, Miss. Laura Alice\",\"Sex\":\"female\",\"Age\":17.0,\"SibSp\":0,\"Parch\":1,\"Ticket\":\"371362\",\"Fare\":16.1,\"Cabin\":0,\"Embarked\":\"S\",\"CabinCode\":\"0\"},{\"Pclass\":3,\"Name\":\"Brobeck, Mr. Karl Rudolf\",\"Sex\":\"male\",\"Age\":22.0,\"SibSp\":0,\"Parch\":0,\"Ticket\":\"350045\",\"Fare\":7.7958,\"Cabin\":0,\"Embarked\":\"S\",\"CabinCode\":\"0\"},{\"Pclass\":3,\"Name\":\"McCoy, Miss. Alicia\",\"Sex\":\"female\",\"Age\":null,\"SibSp\":2,\"Parch\":0,\"Ticket\":\"367226\",\"Fare\":23.25,\"Cabin\":0,\"Embarked\":\"Q\",\"CabinCode\":\"0\"},{\"Pclass\":2,\"Name\":\"Bowenur, Mr. Solomon\",\"Sex\":\"male\",\"Age\":42.0,\"SibSp\":0,\"Parch\":0,\"Ticket\":\"211535\",\"Fare\":13.0,\"Cabin\":0,\"Embarked\":\"S\",\"CabinCode\":\"0\"},{\"Pclass\":3,\"Name\":\"Petersen, Mr. Marius\",\"Sex\":\"male\",\"Age\":24.0,\"SibSp\":0,\"Parch\":0,\"Ticket\":\"342441\",\"Fare\":8.05,\"Cabin\":0,\"Embarked\":\"S\",\"CabinCode\":\"0\"},{\"Pclass\":3,\"Name\":\"Spinner, Mr. Henry John\",\"Sex\":\"male\",\"Age\":32.0,\"SibSp\":0,\"Parch\":0,\"Ticket\":\"STON\\/OQ. 369943\",\"Fare\":8.05,\"Cabin\":0,\"Embarked\":\"S\",\"CabinCode\":\"0\"},{\"Pclass\":1,\"Name\":\"Gracie, Col. Archibald IV\",\"Sex\":\"male\",\"Age\":53.0,\"SibSp\":0,\"Parch\":0,\"Ticket\":\"113780\",\"Fare\":28.5,\"Cabin\":\"C51\",\"Embarked\":\"C\",\"CabinCode\":\"C\"},{\"Pclass\":3,\"Name\":\"Lefebre, Mrs. Frank (Frances)\",\"Sex\":\"female\",\"Age\":null,\"SibSp\":0,\"Parch\":4,\"Ticket\":\"4133\",\"Fare\":25.4667,\"Cabin\":0,\"Embarked\":\"S\",\"CabinCode\":\"0\"},{\"Pclass\":3,\"Name\":\"Thomas, Mr. Charles P\",\"Sex\":\"male\",\"Age\":null,\"SibSp\":1,\"Parch\":0,\"Ticket\":\"2621\",\"Fare\":6.4375,\"Cabin\":0,\"Embarked\":\"C\",\"CabinCode\":\"0\"},{\"Pclass\":3,\"Name\":\"Dintcheff, Mr. Valtcho\",\"Sex\":\"male\",\"Age\":43.0,\"SibSp\":0,\"Parch\":0,\"Ticket\":\"349226\",\"Fare\":7.8958,\"Cabin\":0,\"Embarked\":\"S\",\"CabinCode\":\"0\"},{\"Pclass\":3,\"Name\":\"Carlsson, Mr. Carl Robert\",\"Sex\":\"male\",\"Age\":24.0,\"SibSp\":0,\"Parch\":0,\"Ticket\":\"350409\",\"Fare\":7.8542,\"Cabin\":0,\"Embarked\":\"S\",\"CabinCode\":\"0\"},{\"Pclass\":3,\"Name\":\"Zakarian, Mr. Mapriededer\",\"Sex\":\"male\",\"Age\":26.5,\"SibSp\":0,\"Parch\":0,\"Ticket\":\"2656\",\"Fare\":7.225,\"Cabin\":0,\"Embarked\":\"C\",\"CabinCode\":\"0\"},{\"Pclass\":2,\"Name\":\"Schmidt, Mr. August\",\"Sex\":\"male\",\"Age\":26.0,\"SibSp\":0,\"Parch\":0,\"Ticket\":\"248659\",\"Fare\":13.0,\"Cabin\":0,\"Embarked\":\"S\",\"CabinCode\":\"0\"},{\"Pclass\":3,\"Name\":\"Drapkin, Miss. Jennie\",\"Sex\":\"female\",\"Age\":23.0,\"SibSp\":0,\"Parch\":0,\"Ticket\":\"SOTON\\/OQ 392083\",\"Fare\":8.05,\"Cabin\":0,\"Embarked\":\"S\",\"CabinCode\":\"0\"},{\"Pclass\":3,\"Name\":\"Goodwin, Mr. Charles Frederick\",\"Sex\":\"male\",\"Age\":40.0,\"SibSp\":1,\"Parch\":6,\"Ticket\":\"CA 2144\",\"Fare\":46.9,\"Cabin\":0,\"Embarked\":\"S\",\"CabinCode\":\"0\"},{\"Pclass\":3,\"Name\":\"Goodwin, Miss. Jessie Allis\",\"Sex\":\"female\",\"Age\":10.0,\"SibSp\":5,\"Parch\":2,\"Ticket\":\"CA 2144\",\"Fare\":46.9,\"Cabin\":0,\"Embarked\":\"S\",\"CabinCode\":\"0\"},{\"Pclass\":1,\"Name\":\"Daniels, Miss. Sarah\",\"Sex\":\"female\",\"Age\":33.0,\"SibSp\":0,\"Parch\":0,\"Ticket\":\"113781\",\"Fare\":151.55,\"Cabin\":0,\"Embarked\":\"S\",\"CabinCode\":\"0\"},{\"Pclass\":1,\"Name\":\"Ryerson, Mr. Arthur Larned\",\"Sex\":\"male\",\"Age\":61.0,\"SibSp\":1,\"Parch\":3,\"Ticket\":\"PC 17608\",\"Fare\":262.375,\"Cabin\":\"B57 B59 B63 B66\",\"Embarked\":\"C\",\"CabinCode\":\"B\"},{\"Pclass\":2,\"Name\":\"Beauchamp, Mr. Henry James\",\"Sex\":\"male\",\"Age\":28.0,\"SibSp\":0,\"Parch\":0,\"Ticket\":\"244358\",\"Fare\":26.0,\"Cabin\":0,\"Embarked\":\"S\",\"CabinCode\":\"0\"},{\"Pclass\":1,\"Name\":\"Lindeberg-Lind, Mr. Erik Gustaf (Mr Edward Lingrey\\\")\\\"\",\"Sex\":\"male\",\"Age\":42.0,\"SibSp\":0,\"Parch\":0,\"Ticket\":\"17475\",\"Fare\":26.55,\"Cabin\":0,\"Embarked\":\"S\",\"CabinCode\":\"0\"},{\"Pclass\":3,\"Name\":\"Vander Planke, Mr. Julius\",\"Sex\":\"male\",\"Age\":31.0,\"SibSp\":3,\"Parch\":0,\"Ticket\":\"345763\",\"Fare\":18.0,\"Cabin\":0,\"Embarked\":\"S\",\"CabinCode\":\"0\"},{\"Pclass\":1,\"Name\":\"Hilliard, Mr. Herbert Henry\",\"Sex\":\"male\",\"Age\":null,\"SibSp\":0,\"Parch\":0,\"Ticket\":\"17463\",\"Fare\":51.8625,\"Cabin\":\"E46\",\"Embarked\":\"S\",\"CabinCode\":\"E\"},{\"Pclass\":3,\"Name\":\"Davies, Mr. Evan\",\"Sex\":\"male\",\"Age\":22.0,\"SibSp\":0,\"Parch\":0,\"Ticket\":\"SC\\/A4 23568\",\"Fare\":8.05,\"Cabin\":0,\"Embarked\":\"S\",\"CabinCode\":\"0\"},{\"Pclass\":1,\"Name\":\"Crafton, Mr. John Bertram\",\"Sex\":\"male\",\"Age\":null,\"SibSp\":0,\"Parch\":0,\"Ticket\":\"113791\",\"Fare\":26.55,\"Cabin\":0,\"Embarked\":\"S\",\"CabinCode\":\"0\"},{\"Pclass\":2,\"Name\":\"Lahtinen, Rev. William\",\"Sex\":\"male\",\"Age\":30.0,\"SibSp\":1,\"Parch\":1,\"Ticket\":\"250651\",\"Fare\":26.0,\"Cabin\":0,\"Embarked\":\"S\",\"CabinCode\":\"0\"},{\"Pclass\":1,\"Name\":\"Earnshaw, Mrs. Boulton (Olive Potter)\",\"Sex\":\"female\",\"Age\":23.0,\"SibSp\":0,\"Parch\":1,\"Ticket\":\"11767\",\"Fare\":83.1583,\"Cabin\":\"C54\",\"Embarked\":\"C\",\"CabinCode\":\"C\"},{\"Pclass\":3,\"Name\":\"Matinoff, Mr. Nicola\",\"Sex\":\"male\",\"Age\":null,\"SibSp\":0,\"Parch\":0,\"Ticket\":\"349255\",\"Fare\":7.8958,\"Cabin\":0,\"Embarked\":\"C\",\"CabinCode\":\"0\"},{\"Pclass\":3,\"Name\":\"Storey, Mr. Thomas\",\"Sex\":\"male\",\"Age\":60.5,\"SibSp\":0,\"Parch\":0,\"Ticket\":\"3701\",\"Fare\":null,\"Cabin\":0,\"Embarked\":\"S\",\"CabinCode\":\"0\"},{\"Pclass\":3,\"Name\":\"Klasen, Mrs. (Hulda Kristina Eugenia Lofqvist)\",\"Sex\":\"female\",\"Age\":36.0,\"SibSp\":0,\"Parch\":2,\"Ticket\":\"350405\",\"Fare\":12.1833,\"Cabin\":0,\"Embarked\":\"S\",\"CabinCode\":\"0\"},{\"Pclass\":3,\"Name\":\"Asplund, Master. Filip Oscar\",\"Sex\":\"male\",\"Age\":13.0,\"SibSp\":4,\"Parch\":2,\"Ticket\":\"347077\",\"Fare\":31.3875,\"Cabin\":0,\"Embarked\":\"S\",\"CabinCode\":\"0\"},{\"Pclass\":3,\"Name\":\"Duquemin, Mr. Joseph\",\"Sex\":\"male\",\"Age\":24.0,\"SibSp\":0,\"Parch\":0,\"Ticket\":\"S.O.\\/P.P. 752\",\"Fare\":7.55,\"Cabin\":0,\"Embarked\":\"S\",\"CabinCode\":\"0\"},{\"Pclass\":1,\"Name\":\"Bird, Miss. Ellen\",\"Sex\":\"female\",\"Age\":29.0,\"SibSp\":0,\"Parch\":0,\"Ticket\":\"PC 17483\",\"Fare\":221.7792,\"Cabin\":\"C97\",\"Embarked\":\"S\",\"CabinCode\":\"C\"},{\"Pclass\":3,\"Name\":\"Lundin, Miss. Olga Elida\",\"Sex\":\"female\",\"Age\":23.0,\"SibSp\":0,\"Parch\":0,\"Ticket\":\"347469\",\"Fare\":7.8542,\"Cabin\":0,\"Embarked\":\"S\",\"CabinCode\":\"0\"},{\"Pclass\":1,\"Name\":\"Borebank, Mr. John James\",\"Sex\":\"male\",\"Age\":42.0,\"SibSp\":0,\"Parch\":0,\"Ticket\":\"110489\",\"Fare\":26.55,\"Cabin\":\"D22\",\"Embarked\":\"S\",\"CabinCode\":\"D\"},{\"Pclass\":3,\"Name\":\"Peacock, Mrs. Benjamin (Edith Nile)\",\"Sex\":\"female\",\"Age\":26.0,\"SibSp\":0,\"Parch\":2,\"Ticket\":\"SOTON\\/O.Q. 3101315\",\"Fare\":13.775,\"Cabin\":0,\"Embarked\":\"S\",\"CabinCode\":\"0\"},{\"Pclass\":3,\"Name\":\"Smyth, Miss. Julia\",\"Sex\":\"female\",\"Age\":null,\"SibSp\":0,\"Parch\":0,\"Ticket\":\"335432\",\"Fare\":7.7333,\"Cabin\":0,\"Embarked\":\"Q\",\"CabinCode\":\"0\"},{\"Pclass\":3,\"Name\":\"Touma, Master. Georges Youssef\",\"Sex\":\"male\",\"Age\":7.0,\"SibSp\":1,\"Parch\":1,\"Ticket\":\"2650\",\"Fare\":15.2458,\"Cabin\":0,\"Embarked\":\"C\",\"CabinCode\":\"0\"},{\"Pclass\":2,\"Name\":\"Wright, Miss. Marion\",\"Sex\":\"female\",\"Age\":26.0,\"SibSp\":0,\"Parch\":0,\"Ticket\":\"220844\",\"Fare\":13.5,\"Cabin\":0,\"Embarked\":\"S\",\"CabinCode\":\"0\"},{\"Pclass\":3,\"Name\":\"Pearce, Mr. Ernest\",\"Sex\":\"male\",\"Age\":null,\"SibSp\":0,\"Parch\":0,\"Ticket\":\"343271\",\"Fare\":7.0,\"Cabin\":0,\"Embarked\":\"S\",\"CabinCode\":\"0\"},{\"Pclass\":2,\"Name\":\"Peruschitz, Rev. Joseph Maria\",\"Sex\":\"male\",\"Age\":41.0,\"SibSp\":0,\"Parch\":0,\"Ticket\":\"237393\",\"Fare\":13.0,\"Cabin\":0,\"Embarked\":\"S\",\"CabinCode\":\"0\"},{\"Pclass\":3,\"Name\":\"Kink-Heilmann, Mrs. Anton (Luise Heilmann)\",\"Sex\":\"female\",\"Age\":26.0,\"SibSp\":1,\"Parch\":1,\"Ticket\":\"315153\",\"Fare\":22.025,\"Cabin\":0,\"Embarked\":\"S\",\"CabinCode\":\"0\"},{\"Pclass\":1,\"Name\":\"Brandeis, Mr. Emil\",\"Sex\":\"male\",\"Age\":48.0,\"SibSp\":0,\"Parch\":0,\"Ticket\":\"PC 17591\",\"Fare\":50.4958,\"Cabin\":\"B10\",\"Embarked\":\"C\",\"CabinCode\":\"B\"},{\"Pclass\":3,\"Name\":\"Ford, Mr. Edward Watson\",\"Sex\":\"male\",\"Age\":18.0,\"SibSp\":2,\"Parch\":2,\"Ticket\":\"W.\\/C. 6608\",\"Fare\":34.375,\"Cabin\":0,\"Embarked\":\"S\",\"CabinCode\":\"0\"},{\"Pclass\":1,\"Name\":\"Cassebeer, Mrs. Henry Arthur Jr (Eleanor Genevieve Fosdick)\",\"Sex\":\"female\",\"Age\":null,\"SibSp\":0,\"Parch\":0,\"Ticket\":\"17770\",\"Fare\":27.7208,\"Cabin\":0,\"Embarked\":\"C\",\"CabinCode\":\"0\"},{\"Pclass\":3,\"Name\":\"Hellstrom, Miss. Hilda Maria\",\"Sex\":\"female\",\"Age\":22.0,\"SibSp\":0,\"Parch\":0,\"Ticket\":\"7548\",\"Fare\":8.9625,\"Cabin\":0,\"Embarked\":\"S\",\"CabinCode\":\"0\"},{\"Pclass\":3,\"Name\":\"Lithman, Mr. Simon\",\"Sex\":\"male\",\"Age\":null,\"SibSp\":0,\"Parch\":0,\"Ticket\":\"S.O.\\/P.P. 251\",\"Fare\":7.55,\"Cabin\":0,\"Embarked\":\"S\",\"CabinCode\":\"0\"},{\"Pclass\":3,\"Name\":\"Zakarian, Mr. Ortin\",\"Sex\":\"male\",\"Age\":27.0,\"SibSp\":0,\"Parch\":0,\"Ticket\":\"2670\",\"Fare\":7.225,\"Cabin\":0,\"Embarked\":\"C\",\"CabinCode\":\"0\"},{\"Pclass\":3,\"Name\":\"Dyker, Mr. Adolf Fredrik\",\"Sex\":\"male\",\"Age\":23.0,\"SibSp\":1,\"Parch\":0,\"Ticket\":\"347072\",\"Fare\":13.9,\"Cabin\":0,\"Embarked\":\"S\",\"CabinCode\":\"0\"},{\"Pclass\":3,\"Name\":\"Torfa, Mr. Assad\",\"Sex\":\"male\",\"Age\":null,\"SibSp\":0,\"Parch\":0,\"Ticket\":\"2673\",\"Fare\":7.2292,\"Cabin\":0,\"Embarked\":\"C\",\"CabinCode\":\"0\"},{\"Pclass\":3,\"Name\":\"Asplund, Mr. Carl Oscar Vilhelm Gustafsson\",\"Sex\":\"male\",\"Age\":40.0,\"SibSp\":1,\"Parch\":5,\"Ticket\":\"347077\",\"Fare\":31.3875,\"Cabin\":0,\"Embarked\":\"S\",\"CabinCode\":\"0\"},{\"Pclass\":2,\"Name\":\"Brown, Miss. Edith Eileen\",\"Sex\":\"female\",\"Age\":15.0,\"SibSp\":0,\"Parch\":2,\"Ticket\":\"29750\",\"Fare\":39.0,\"Cabin\":0,\"Embarked\":\"S\",\"CabinCode\":\"0\"},{\"Pclass\":2,\"Name\":\"Sincock, Miss. Maude\",\"Sex\":\"female\",\"Age\":20.0,\"SibSp\":0,\"Parch\":0,\"Ticket\":\"C.A. 33112\",\"Fare\":36.75,\"Cabin\":0,\"Embarked\":\"S\",\"CabinCode\":\"0\"},{\"Pclass\":1,\"Name\":\"Stengel, Mr. Charles Emil Henry\",\"Sex\":\"male\",\"Age\":54.0,\"SibSp\":1,\"Parch\":0,\"Ticket\":\"11778\",\"Fare\":55.4417,\"Cabin\":\"C116\",\"Embarked\":\"C\",\"CabinCode\":\"C\"},{\"Pclass\":2,\"Name\":\"Becker, Mrs. Allen Oliver (Nellie E Baumgardner)\",\"Sex\":\"female\",\"Age\":36.0,\"SibSp\":0,\"Parch\":3,\"Ticket\":\"230136\",\"Fare\":39.0,\"Cabin\":\"F4\",\"Embarked\":\"S\",\"CabinCode\":\"F\"},{\"Pclass\":1,\"Name\":\"Compton, Mrs. Alexander Taylor (Mary Eliza Ingersoll)\",\"Sex\":\"female\",\"Age\":64.0,\"SibSp\":0,\"Parch\":2,\"Ticket\":\"PC 17756\",\"Fare\":83.1583,\"Cabin\":\"E45\",\"Embarked\":\"C\",\"CabinCode\":\"E\"},{\"Pclass\":2,\"Name\":\"McCrie, Mr. James Matthew\",\"Sex\":\"male\",\"Age\":30.0,\"SibSp\":0,\"Parch\":0,\"Ticket\":\"233478\",\"Fare\":13.0,\"Cabin\":0,\"Embarked\":\"S\",\"CabinCode\":\"0\"},{\"Pclass\":1,\"Name\":\"Compton, Mr. Alexander Taylor Jr\",\"Sex\":\"male\",\"Age\":37.0,\"SibSp\":1,\"Parch\":1,\"Ticket\":\"PC 17756\",\"Fare\":83.1583,\"Cabin\":\"E52\",\"Embarked\":\"C\",\"CabinCode\":\"E\"},{\"Pclass\":1,\"Name\":\"Marvin, Mrs. Daniel Warner (Mary Graham Carmichael Farquarson)\",\"Sex\":\"female\",\"Age\":18.0,\"SibSp\":1,\"Parch\":0,\"Ticket\":\"113773\",\"Fare\":53.1,\"Cabin\":\"D30\",\"Embarked\":\"S\",\"CabinCode\":\"D\"},{\"Pclass\":3,\"Name\":\"Lane, Mr. Patrick\",\"Sex\":\"male\",\"Age\":null,\"SibSp\":0,\"Parch\":0,\"Ticket\":\"7935\",\"Fare\":7.75,\"Cabin\":0,\"Embarked\":\"Q\",\"CabinCode\":\"0\"},{\"Pclass\":1,\"Name\":\"Douglas, Mrs. Frederick Charles (Mary Helene Baxter)\",\"Sex\":\"female\",\"Age\":27.0,\"SibSp\":1,\"Parch\":1,\"Ticket\":\"PC 17558\",\"Fare\":247.5208,\"Cabin\":\"B58 B60\",\"Embarked\":\"C\",\"CabinCode\":\"B\"},{\"Pclass\":2,\"Name\":\"Maybery, Mr. Frank Hubert\",\"Sex\":\"male\",\"Age\":40.0,\"SibSp\":0,\"Parch\":0,\"Ticket\":\"239059\",\"Fare\":16.0,\"Cabin\":0,\"Embarked\":\"S\",\"CabinCode\":\"0\"},{\"Pclass\":2,\"Name\":\"Phillips, Miss. Alice Frances Louisa\",\"Sex\":\"female\",\"Age\":21.0,\"SibSp\":0,\"Parch\":1,\"Ticket\":\"S.O.\\/P.P. 2\",\"Fare\":21.0,\"Cabin\":0,\"Embarked\":\"S\",\"CabinCode\":\"0\"},{\"Pclass\":3,\"Name\":\"Davies, Mr. Joseph\",\"Sex\":\"male\",\"Age\":17.0,\"SibSp\":2,\"Parch\":0,\"Ticket\":\"A\\/4 48873\",\"Fare\":8.05,\"Cabin\":0,\"Embarked\":\"S\",\"CabinCode\":\"0\"},{\"Pclass\":3,\"Name\":\"Sage, Miss. Ada\",\"Sex\":\"female\",\"Age\":null,\"SibSp\":8,\"Parch\":2,\"Ticket\":\"CA. 2343\",\"Fare\":69.55,\"Cabin\":0,\"Embarked\":\"S\",\"CabinCode\":\"0\"},{\"Pclass\":2,\"Name\":\"Veal, Mr. James\",\"Sex\":\"male\",\"Age\":40.0,\"SibSp\":0,\"Parch\":0,\"Ticket\":\"28221\",\"Fare\":13.0,\"Cabin\":0,\"Embarked\":\"S\",\"CabinCode\":\"0\"},{\"Pclass\":2,\"Name\":\"Angle, Mr. William A\",\"Sex\":\"male\",\"Age\":34.0,\"SibSp\":1,\"Parch\":0,\"Ticket\":\"226875\",\"Fare\":26.0,\"Cabin\":0,\"Embarked\":\"S\",\"CabinCode\":\"0\"},{\"Pclass\":1,\"Name\":\"Salomon, Mr. Abraham L\",\"Sex\":\"male\",\"Age\":null,\"SibSp\":0,\"Parch\":0,\"Ticket\":\"111163\",\"Fare\":26.0,\"Cabin\":0,\"Embarked\":\"S\",\"CabinCode\":\"0\"},{\"Pclass\":3,\"Name\":\"van Billiard, Master. Walter John\",\"Sex\":\"male\",\"Age\":11.5,\"SibSp\":1,\"Parch\":1,\"Ticket\":\"A\\/5. 851\",\"Fare\":14.5,\"Cabin\":0,\"Embarked\":\"S\",\"CabinCode\":\"0\"},{\"Pclass\":2,\"Name\":\"Lingane, Mr. John\",\"Sex\":\"male\",\"Age\":61.0,\"SibSp\":0,\"Parch\":0,\"Ticket\":\"235509\",\"Fare\":12.35,\"Cabin\":0,\"Embarked\":\"Q\",\"CabinCode\":\"0\"},{\"Pclass\":2,\"Name\":\"Drew, Master. Marshall Brines\",\"Sex\":\"male\",\"Age\":8.0,\"SibSp\":0,\"Parch\":2,\"Ticket\":\"28220\",\"Fare\":32.5,\"Cabin\":0,\"Embarked\":\"S\",\"CabinCode\":\"0\"},{\"Pclass\":3,\"Name\":\"Karlsson, Mr. Julius Konrad Eugen\",\"Sex\":\"male\",\"Age\":33.0,\"SibSp\":0,\"Parch\":0,\"Ticket\":\"347465\",\"Fare\":7.8542,\"Cabin\":0,\"Embarked\":\"S\",\"CabinCode\":\"0\"},{\"Pclass\":1,\"Name\":\"Spedden, Master. Robert Douglas\",\"Sex\":\"male\",\"Age\":6.0,\"SibSp\":0,\"Parch\":2,\"Ticket\":\"16966\",\"Fare\":134.5,\"Cabin\":\"E34\",\"Embarked\":\"C\",\"CabinCode\":\"E\"},{\"Pclass\":3,\"Name\":\"Nilsson, Miss. Berta Olivia\",\"Sex\":\"female\",\"Age\":18.0,\"SibSp\":0,\"Parch\":0,\"Ticket\":\"347066\",\"Fare\":7.775,\"Cabin\":0,\"Embarked\":\"S\",\"CabinCode\":\"0\"},{\"Pclass\":2,\"Name\":\"Baimbrigge, Mr. Charles Robert\",\"Sex\":\"male\",\"Age\":23.0,\"SibSp\":0,\"Parch\":0,\"Ticket\":\"C.A. 31030\",\"Fare\":10.5,\"Cabin\":0,\"Embarked\":\"S\",\"CabinCode\":\"0\"},{\"Pclass\":3,\"Name\":\"Rasmussen, Mrs. (Lena Jacobsen Solvang)\",\"Sex\":\"female\",\"Age\":null,\"SibSp\":0,\"Parch\":0,\"Ticket\":\"65305\",\"Fare\":8.1125,\"Cabin\":0,\"Embarked\":\"S\",\"CabinCode\":\"0\"},{\"Pclass\":3,\"Name\":\"Murphy, Miss. Nora\",\"Sex\":\"female\",\"Age\":null,\"SibSp\":0,\"Parch\":0,\"Ticket\":\"36568\",\"Fare\":15.5,\"Cabin\":0,\"Embarked\":\"Q\",\"CabinCode\":\"0\"},{\"Pclass\":3,\"Name\":\"Danbom, Master. Gilbert Sigvard Emanuel\",\"Sex\":\"male\",\"Age\":0.33,\"SibSp\":0,\"Parch\":2,\"Ticket\":\"347080\",\"Fare\":14.4,\"Cabin\":0,\"Embarked\":\"S\",\"CabinCode\":\"0\"},{\"Pclass\":1,\"Name\":\"Astor, Col. John Jacob\",\"Sex\":\"male\",\"Age\":47.0,\"SibSp\":1,\"Parch\":0,\"Ticket\":\"PC 17757\",\"Fare\":227.525,\"Cabin\":\"C62 C64\",\"Embarked\":\"C\",\"CabinCode\":\"C\"},{\"Pclass\":2,\"Name\":\"Quick, Miss. Winifred Vera\",\"Sex\":\"female\",\"Age\":8.0,\"SibSp\":1,\"Parch\":1,\"Ticket\":\"26360\",\"Fare\":26.0,\"Cabin\":0,\"Embarked\":\"S\",\"CabinCode\":\"0\"},{\"Pclass\":2,\"Name\":\"Andrew, Mr. Frank Thomas\",\"Sex\":\"male\",\"Age\":25.0,\"SibSp\":0,\"Parch\":0,\"Ticket\":\"C.A. 34050\",\"Fare\":10.5,\"Cabin\":0,\"Embarked\":\"S\",\"CabinCode\":\"0\"},{\"Pclass\":1,\"Name\":\"Omont, Mr. Alfred Fernand\",\"Sex\":\"male\",\"Age\":null,\"SibSp\":0,\"Parch\":0,\"Ticket\":\"F.C. 12998\",\"Fare\":25.7417,\"Cabin\":0,\"Embarked\":\"C\",\"CabinCode\":\"0\"},{\"Pclass\":3,\"Name\":\"McGowan, Miss. Katherine\",\"Sex\":\"female\",\"Age\":35.0,\"SibSp\":0,\"Parch\":0,\"Ticket\":\"9232\",\"Fare\":7.75,\"Cabin\":0,\"Embarked\":\"Q\",\"CabinCode\":\"0\"},{\"Pclass\":2,\"Name\":\"Collett, Mr. Sidney C Stuart\",\"Sex\":\"male\",\"Age\":24.0,\"SibSp\":0,\"Parch\":0,\"Ticket\":\"28034\",\"Fare\":10.5,\"Cabin\":0,\"Embarked\":\"S\",\"CabinCode\":\"0\"},{\"Pclass\":1,\"Name\":\"Rosenbaum, Miss. Edith Louise\",\"Sex\":\"female\",\"Age\":33.0,\"SibSp\":0,\"Parch\":0,\"Ticket\":\"PC 17613\",\"Fare\":27.7208,\"Cabin\":\"A11\",\"Embarked\":\"C\",\"CabinCode\":\"A\"},{\"Pclass\":3,\"Name\":\"Delalic, Mr. Redjo\",\"Sex\":\"male\",\"Age\":25.0,\"SibSp\":0,\"Parch\":0,\"Ticket\":\"349250\",\"Fare\":7.8958,\"Cabin\":0,\"Embarked\":\"S\",\"CabinCode\":\"0\"},{\"Pclass\":3,\"Name\":\"Andersen, Mr. Albert Karvin\",\"Sex\":\"male\",\"Age\":32.0,\"SibSp\":0,\"Parch\":0,\"Ticket\":\"C 4001\",\"Fare\":22.525,\"Cabin\":0,\"Embarked\":\"S\",\"CabinCode\":\"0\"},{\"Pclass\":3,\"Name\":\"Finoli, Mr. Luigi\",\"Sex\":\"male\",\"Age\":null,\"SibSp\":0,\"Parch\":0,\"Ticket\":\"SOTON\\/O.Q. 3101308\",\"Fare\":7.05,\"Cabin\":0,\"Embarked\":\"S\",\"CabinCode\":\"0\"},{\"Pclass\":2,\"Name\":\"Deacon, Mr. Percy William\",\"Sex\":\"male\",\"Age\":17.0,\"SibSp\":0,\"Parch\":0,\"Ticket\":\"S.O.C. 14879\",\"Fare\":73.5,\"Cabin\":0,\"Embarked\":\"S\",\"CabinCode\":\"0\"},{\"Pclass\":2,\"Name\":\"Howard, Mrs. Benjamin (Ellen Truelove Arman)\",\"Sex\":\"female\",\"Age\":60.0,\"SibSp\":1,\"Parch\":0,\"Ticket\":\"24065\",\"Fare\":26.0,\"Cabin\":0,\"Embarked\":\"S\",\"CabinCode\":\"0\"},{\"Pclass\":3,\"Name\":\"Andersson, Miss. Ida Augusta Margareta\",\"Sex\":\"female\",\"Age\":38.0,\"SibSp\":4,\"Parch\":2,\"Ticket\":\"347091\",\"Fare\":7.775,\"Cabin\":0,\"Embarked\":\"S\",\"CabinCode\":\"0\"},{\"Pclass\":1,\"Name\":\"Head, Mr. Christopher\",\"Sex\":\"male\",\"Age\":42.0,\"SibSp\":0,\"Parch\":0,\"Ticket\":\"113038\",\"Fare\":42.5,\"Cabin\":\"B11\",\"Embarked\":\"S\",\"CabinCode\":\"B\"},{\"Pclass\":3,\"Name\":\"Mahon, Miss. Bridget Delia\",\"Sex\":\"female\",\"Age\":null,\"SibSp\":0,\"Parch\":0,\"Ticket\":\"330924\",\"Fare\":7.8792,\"Cabin\":0,\"Embarked\":\"Q\",\"CabinCode\":\"0\"},{\"Pclass\":1,\"Name\":\"Wick, Mr. George Dennick\",\"Sex\":\"male\",\"Age\":57.0,\"SibSp\":1,\"Parch\":1,\"Ticket\":\"36928\",\"Fare\":164.8667,\"Cabin\":0,\"Embarked\":\"S\",\"CabinCode\":\"0\"},{\"Pclass\":1,\"Name\":\"Widener, Mrs. George Dunton (Eleanor Elkins)\",\"Sex\":\"female\",\"Age\":50.0,\"SibSp\":1,\"Parch\":1,\"Ticket\":\"113503\",\"Fare\":211.5,\"Cabin\":\"C80\",\"Embarked\":\"C\",\"CabinCode\":\"C\"},{\"Pclass\":3,\"Name\":\"Thomson, Mr. Alexander Morrison\",\"Sex\":\"male\",\"Age\":null,\"SibSp\":0,\"Parch\":0,\"Ticket\":\"32302\",\"Fare\":8.05,\"Cabin\":0,\"Embarked\":\"S\",\"CabinCode\":\"0\"},{\"Pclass\":2,\"Name\":\"Duran y More, Miss. Florentina\",\"Sex\":\"female\",\"Age\":30.0,\"SibSp\":1,\"Parch\":0,\"Ticket\":\"SC\\/PARIS 2148\",\"Fare\":13.8583,\"Cabin\":0,\"Embarked\":\"C\",\"CabinCode\":\"0\"},{\"Pclass\":3,\"Name\":\"Reynolds, Mr. Harold J\",\"Sex\":\"male\",\"Age\":21.0,\"SibSp\":0,\"Parch\":0,\"Ticket\":\"342684\",\"Fare\":8.05,\"Cabin\":0,\"Embarked\":\"S\",\"CabinCode\":\"0\"},{\"Pclass\":2,\"Name\":\"Cook, Mrs. (Selena Rogers)\",\"Sex\":\"female\",\"Age\":22.0,\"SibSp\":0,\"Parch\":0,\"Ticket\":\"W.\\/C. 14266\",\"Fare\":10.5,\"Cabin\":\"F33\",\"Embarked\":\"S\",\"CabinCode\":\"F\"},{\"Pclass\":3,\"Name\":\"Karlsson, Mr. Einar Gervasius\",\"Sex\":\"male\",\"Age\":21.0,\"SibSp\":0,\"Parch\":0,\"Ticket\":\"350053\",\"Fare\":7.7958,\"Cabin\":0,\"Embarked\":\"S\",\"CabinCode\":\"0\"},{\"Pclass\":1,\"Name\":\"Candee, Mrs. Edward (Helen Churchill Hungerford)\",\"Sex\":\"female\",\"Age\":53.0,\"SibSp\":0,\"Parch\":0,\"Ticket\":\"PC 17606\",\"Fare\":27.4458,\"Cabin\":0,\"Embarked\":\"C\",\"CabinCode\":\"0\"},{\"Pclass\":3,\"Name\":\"Moubarek, Mrs. George (Omine Amenia\\\" Alexander)\\\"\",\"Sex\":\"female\",\"Age\":null,\"SibSp\":0,\"Parch\":2,\"Ticket\":\"2661\",\"Fare\":15.2458,\"Cabin\":0,\"Embarked\":\"C\",\"CabinCode\":\"0\"},{\"Pclass\":3,\"Name\":\"Asplund, Mr. Johan Charles\",\"Sex\":\"male\",\"Age\":23.0,\"SibSp\":0,\"Parch\":0,\"Ticket\":\"350054\",\"Fare\":7.7958,\"Cabin\":0,\"Embarked\":\"S\",\"CabinCode\":\"0\"},{\"Pclass\":3,\"Name\":\"McNeill, Miss. Bridget\",\"Sex\":\"female\",\"Age\":null,\"SibSp\":0,\"Parch\":0,\"Ticket\":\"370368\",\"Fare\":7.75,\"Cabin\":0,\"Embarked\":\"Q\",\"CabinCode\":\"0\"},{\"Pclass\":3,\"Name\":\"Everett, Mr. Thomas James\",\"Sex\":\"male\",\"Age\":40.5,\"SibSp\":0,\"Parch\":0,\"Ticket\":\"C.A. 6212\",\"Fare\":15.1,\"Cabin\":0,\"Embarked\":\"S\",\"CabinCode\":\"0\"},{\"Pclass\":2,\"Name\":\"Hocking, Mr. Samuel James Metcalfe\",\"Sex\":\"male\",\"Age\":36.0,\"SibSp\":0,\"Parch\":0,\"Ticket\":\"242963\",\"Fare\":13.0,\"Cabin\":0,\"Embarked\":\"S\",\"CabinCode\":\"0\"},{\"Pclass\":2,\"Name\":\"Sweet, Mr. George Frederick\",\"Sex\":\"male\",\"Age\":14.0,\"SibSp\":0,\"Parch\":0,\"Ticket\":\"220845\",\"Fare\":65.0,\"Cabin\":0,\"Embarked\":\"S\",\"CabinCode\":\"0\"},{\"Pclass\":1,\"Name\":\"Willard, Miss. Constance\",\"Sex\":\"female\",\"Age\":21.0,\"SibSp\":0,\"Parch\":0,\"Ticket\":\"113795\",\"Fare\":26.55,\"Cabin\":0,\"Embarked\":\"S\",\"CabinCode\":\"0\"},{\"Pclass\":3,\"Name\":\"Wiklund, Mr. Karl Johan\",\"Sex\":\"male\",\"Age\":21.0,\"SibSp\":1,\"Parch\":0,\"Ticket\":\"3101266\",\"Fare\":6.4958,\"Cabin\":0,\"Embarked\":\"S\",\"CabinCode\":\"0\"},{\"Pclass\":3,\"Name\":\"Linehan, Mr. Michael\",\"Sex\":\"male\",\"Age\":null,\"SibSp\":0,\"Parch\":0,\"Ticket\":\"330971\",\"Fare\":7.8792,\"Cabin\":0,\"Embarked\":\"Q\",\"CabinCode\":\"0\"},{\"Pclass\":1,\"Name\":\"Cumings, Mr. John Bradley\",\"Sex\":\"male\",\"Age\":39.0,\"SibSp\":1,\"Parch\":0,\"Ticket\":\"PC 17599\",\"Fare\":71.2833,\"Cabin\":\"C85\",\"Embarked\":\"C\",\"CabinCode\":\"C\"},{\"Pclass\":3,\"Name\":\"Vendel, Mr. Olof Edvin\",\"Sex\":\"male\",\"Age\":20.0,\"SibSp\":0,\"Parch\":0,\"Ticket\":\"350416\",\"Fare\":7.8542,\"Cabin\":0,\"Embarked\":\"S\",\"CabinCode\":\"0\"},{\"Pclass\":1,\"Name\":\"Warren, Mr. Frank Manley\",\"Sex\":\"male\",\"Age\":64.0,\"SibSp\":1,\"Parch\":0,\"Ticket\":\"110813\",\"Fare\":75.25,\"Cabin\":\"D37\",\"Embarked\":\"C\",\"CabinCode\":\"D\"},{\"Pclass\":3,\"Name\":\"Baccos, Mr. Raffull\",\"Sex\":\"male\",\"Age\":20.0,\"SibSp\":0,\"Parch\":0,\"Ticket\":\"2679\",\"Fare\":7.225,\"Cabin\":0,\"Embarked\":\"C\",\"CabinCode\":\"0\"},{\"Pclass\":2,\"Name\":\"Hiltunen, Miss. Marta\",\"Sex\":\"female\",\"Age\":18.0,\"SibSp\":1,\"Parch\":1,\"Ticket\":\"250650\",\"Fare\":13.0,\"Cabin\":0,\"Embarked\":\"S\",\"CabinCode\":\"0\"},{\"Pclass\":1,\"Name\":\"Douglas, Mrs. Walter Donald (Mahala Dutton)\",\"Sex\":\"female\",\"Age\":48.0,\"SibSp\":1,\"Parch\":0,\"Ticket\":\"PC 17761\",\"Fare\":106.425,\"Cabin\":\"C86\",\"Embarked\":\"C\",\"CabinCode\":\"C\"},{\"Pclass\":1,\"Name\":\"Lindstrom, Mrs. Carl Johan (Sigrid Posse)\",\"Sex\":\"female\",\"Age\":55.0,\"SibSp\":0,\"Parch\":0,\"Ticket\":\"112377\",\"Fare\":27.7208,\"Cabin\":0,\"Embarked\":\"C\",\"CabinCode\":\"0\"},{\"Pclass\":2,\"Name\":\"Christy, Mrs. (Alice Frances)\",\"Sex\":\"female\",\"Age\":45.0,\"SibSp\":0,\"Parch\":2,\"Ticket\":\"237789\",\"Fare\":30.0,\"Cabin\":0,\"Embarked\":\"S\",\"CabinCode\":\"0\"},{\"Pclass\":1,\"Name\":\"Spedden, Mr. Frederic Oakley\",\"Sex\":\"male\",\"Age\":45.0,\"SibSp\":1,\"Parch\":1,\"Ticket\":\"16966\",\"Fare\":134.5,\"Cabin\":\"E34\",\"Embarked\":\"C\",\"CabinCode\":\"E\"},{\"Pclass\":3,\"Name\":\"Hyman, Mr. Abraham\",\"Sex\":\"male\",\"Age\":null,\"SibSp\":0,\"Parch\":0,\"Ticket\":\"3470\",\"Fare\":7.8875,\"Cabin\":0,\"Embarked\":\"S\",\"CabinCode\":\"0\"},{\"Pclass\":3,\"Name\":\"Johnston, Master. William Arthur Willie\\\"\\\"\",\"Sex\":\"male\",\"Age\":null,\"SibSp\":1,\"Parch\":2,\"Ticket\":\"W.\\/C. 6607\",\"Fare\":23.45,\"Cabin\":0,\"Embarked\":\"S\",\"CabinCode\":\"0\"},{\"Pclass\":1,\"Name\":\"Kenyon, Mr. Frederick R\",\"Sex\":\"male\",\"Age\":41.0,\"SibSp\":1,\"Parch\":0,\"Ticket\":\"17464\",\"Fare\":51.8625,\"Cabin\":\"D21\",\"Embarked\":\"S\",\"CabinCode\":\"D\"},{\"Pclass\":2,\"Name\":\"Karnes, Mrs. J Frank (Claire Bennett)\",\"Sex\":\"female\",\"Age\":22.0,\"SibSp\":0,\"Parch\":0,\"Ticket\":\"F.C.C. 13534\",\"Fare\":21.0,\"Cabin\":0,\"Embarked\":\"S\",\"CabinCode\":\"0\"},{\"Pclass\":2,\"Name\":\"Drew, Mr. James Vivian\",\"Sex\":\"male\",\"Age\":42.0,\"SibSp\":1,\"Parch\":1,\"Ticket\":\"28220\",\"Fare\":32.5,\"Cabin\":0,\"Embarked\":\"S\",\"CabinCode\":\"0\"},{\"Pclass\":2,\"Name\":\"Hold, Mrs. Stephen (Annie Margaret Hill)\",\"Sex\":\"female\",\"Age\":29.0,\"SibSp\":1,\"Parch\":0,\"Ticket\":\"26707\",\"Fare\":26.0,\"Cabin\":0,\"Embarked\":\"S\",\"CabinCode\":\"0\"},{\"Pclass\":3,\"Name\":\"Khalil, Mrs. Betros (Zahie Maria\\\" Elias)\\\"\",\"Sex\":\"female\",\"Age\":null,\"SibSp\":1,\"Parch\":0,\"Ticket\":\"2660\",\"Fare\":14.4542,\"Cabin\":0,\"Embarked\":\"C\",\"CabinCode\":\"0\"},{\"Pclass\":2,\"Name\":\"West, Miss. Barbara J\",\"Sex\":\"female\",\"Age\":0.92,\"SibSp\":1,\"Parch\":2,\"Ticket\":\"C.A. 34651\",\"Fare\":27.75,\"Cabin\":0,\"Embarked\":\"S\",\"CabinCode\":\"0\"},{\"Pclass\":3,\"Name\":\"Abrahamsson, Mr. Abraham August Johannes\",\"Sex\":\"male\",\"Age\":20.0,\"SibSp\":0,\"Parch\":0,\"Ticket\":\"SOTON\\/O2 3101284\",\"Fare\":7.925,\"Cabin\":0,\"Embarked\":\"S\",\"CabinCode\":\"0\"},{\"Pclass\":1,\"Name\":\"Clark, Mr. Walter Miller\",\"Sex\":\"male\",\"Age\":27.0,\"SibSp\":1,\"Parch\":0,\"Ticket\":\"13508\",\"Fare\":136.7792,\"Cabin\":\"C89\",\"Embarked\":\"C\",\"CabinCode\":\"C\"},{\"Pclass\":3,\"Name\":\"Salander, Mr. Karl Johan\",\"Sex\":\"male\",\"Age\":24.0,\"SibSp\":0,\"Parch\":0,\"Ticket\":\"7266\",\"Fare\":9.325,\"Cabin\":0,\"Embarked\":\"S\",\"CabinCode\":\"0\"},{\"Pclass\":3,\"Name\":\"Wenzel, Mr. Linhart\",\"Sex\":\"male\",\"Age\":32.5,\"SibSp\":0,\"Parch\":0,\"Ticket\":\"345775\",\"Fare\":9.5,\"Cabin\":0,\"Embarked\":\"S\",\"CabinCode\":\"0\"},{\"Pclass\":3,\"Name\":\"MacKay, Mr. George William\",\"Sex\":\"male\",\"Age\":null,\"SibSp\":0,\"Parch\":0,\"Ticket\":\"C.A. 42795\",\"Fare\":7.55,\"Cabin\":0,\"Embarked\":\"S\",\"CabinCode\":\"0\"},{\"Pclass\":3,\"Name\":\"Mahon, Mr. John\",\"Sex\":\"male\",\"Age\":null,\"SibSp\":0,\"Parch\":0,\"Ticket\":\"AQ\\/4 3130\",\"Fare\":7.75,\"Cabin\":0,\"Embarked\":\"Q\",\"CabinCode\":\"0\"},{\"Pclass\":3,\"Name\":\"Niklasson, Mr. Samuel\",\"Sex\":\"male\",\"Age\":28.0,\"SibSp\":0,\"Parch\":0,\"Ticket\":\"363611\",\"Fare\":8.05,\"Cabin\":0,\"Embarked\":\"S\",\"CabinCode\":\"0\"},{\"Pclass\":2,\"Name\":\"Bentham, Miss. Lilian W\",\"Sex\":\"female\",\"Age\":19.0,\"SibSp\":0,\"Parch\":0,\"Ticket\":\"28404\",\"Fare\":13.0,\"Cabin\":0,\"Embarked\":\"S\",\"CabinCode\":\"0\"},{\"Pclass\":3,\"Name\":\"Midtsjo, Mr. Karl Albert\",\"Sex\":\"male\",\"Age\":21.0,\"SibSp\":0,\"Parch\":0,\"Ticket\":\"345501\",\"Fare\":7.775,\"Cabin\":0,\"Embarked\":\"S\",\"CabinCode\":\"0\"},{\"Pclass\":3,\"Name\":\"de Messemaeker, Mr. Guillaume Joseph\",\"Sex\":\"male\",\"Age\":36.5,\"SibSp\":1,\"Parch\":0,\"Ticket\":\"345572\",\"Fare\":17.4,\"Cabin\":0,\"Embarked\":\"S\",\"CabinCode\":\"0\"},{\"Pclass\":3,\"Name\":\"Nilsson, Mr. August Ferdinand\",\"Sex\":\"male\",\"Age\":21.0,\"SibSp\":0,\"Parch\":0,\"Ticket\":\"350410\",\"Fare\":7.8542,\"Cabin\":0,\"Embarked\":\"S\",\"CabinCode\":\"0\"},{\"Pclass\":2,\"Name\":\"Wells, Mrs. Arthur Henry (Addie\\\" Dart Trevaskis)\\\"\",\"Sex\":\"female\",\"Age\":29.0,\"SibSp\":0,\"Parch\":2,\"Ticket\":\"29103\",\"Fare\":23.0,\"Cabin\":0,\"Embarked\":\"S\",\"CabinCode\":\"0\"},{\"Pclass\":3,\"Name\":\"Klasen, Miss. Gertrud Emilia\",\"Sex\":\"female\",\"Age\":1.0,\"SibSp\":1,\"Parch\":1,\"Ticket\":\"350405\",\"Fare\":12.1833,\"Cabin\":0,\"Embarked\":\"S\",\"CabinCode\":\"0\"},{\"Pclass\":2,\"Name\":\"Portaluppi, Mr. Emilio Ilario Giuseppe\",\"Sex\":\"male\",\"Age\":30.0,\"SibSp\":0,\"Parch\":0,\"Ticket\":\"C.A. 34644\",\"Fare\":12.7375,\"Cabin\":0,\"Embarked\":\"C\",\"CabinCode\":\"0\"},{\"Pclass\":3,\"Name\":\"Lyntakoff, Mr. Stanko\",\"Sex\":\"male\",\"Age\":null,\"SibSp\":0,\"Parch\":0,\"Ticket\":\"349235\",\"Fare\":7.8958,\"Cabin\":0,\"Embarked\":\"S\",\"CabinCode\":\"0\"},{\"Pclass\":1,\"Name\":\"Chisholm, Mr. Roderick Robert Crispin\",\"Sex\":\"male\",\"Age\":null,\"SibSp\":0,\"Parch\":0,\"Ticket\":\"112051\",\"Fare\":0.0,\"Cabin\":0,\"Embarked\":\"S\",\"CabinCode\":\"0\"},{\"Pclass\":3,\"Name\":\"Warren, Mr. Charles William\",\"Sex\":\"male\",\"Age\":null,\"SibSp\":0,\"Parch\":0,\"Ticket\":\"C.A. 49867\",\"Fare\":7.55,\"Cabin\":0,\"Embarked\":\"S\",\"CabinCode\":\"0\"},{\"Pclass\":3,\"Name\":\"Howard, Miss. May Elizabeth\",\"Sex\":\"female\",\"Age\":null,\"SibSp\":0,\"Parch\":0,\"Ticket\":\"A. 2. 39186\",\"Fare\":8.05,\"Cabin\":0,\"Embarked\":\"S\",\"CabinCode\":\"0\"},{\"Pclass\":3,\"Name\":\"Pokrnic, Mr. Mate\",\"Sex\":\"male\",\"Age\":17.0,\"SibSp\":0,\"Parch\":0,\"Ticket\":\"315095\",\"Fare\":8.6625,\"Cabin\":0,\"Embarked\":\"S\",\"CabinCode\":\"0\"},{\"Pclass\":1,\"Name\":\"McCaffry, Mr. Thomas Francis\",\"Sex\":\"male\",\"Age\":46.0,\"SibSp\":0,\"Parch\":0,\"Ticket\":\"13050\",\"Fare\":75.2417,\"Cabin\":\"C6\",\"Embarked\":\"C\",\"CabinCode\":\"C\"},{\"Pclass\":3,\"Name\":\"Fox, Mr. Patrick\",\"Sex\":\"male\",\"Age\":null,\"SibSp\":0,\"Parch\":0,\"Ticket\":\"368573\",\"Fare\":7.75,\"Cabin\":0,\"Embarked\":\"Q\",\"CabinCode\":\"0\"},{\"Pclass\":1,\"Name\":\"Clark, Mrs. Walter Miller (Virginia McDowell)\",\"Sex\":\"female\",\"Age\":26.0,\"SibSp\":1,\"Parch\":0,\"Ticket\":\"13508\",\"Fare\":136.7792,\"Cabin\":\"C89\",\"Embarked\":\"C\",\"CabinCode\":\"C\"},{\"Pclass\":3,\"Name\":\"Lennon, Miss. Mary\",\"Sex\":\"female\",\"Age\":null,\"SibSp\":1,\"Parch\":0,\"Ticket\":\"370371\",\"Fare\":15.5,\"Cabin\":0,\"Embarked\":\"Q\",\"CabinCode\":\"0\"},{\"Pclass\":3,\"Name\":\"Saade, Mr. Jean Nassr\",\"Sex\":\"male\",\"Age\":null,\"SibSp\":0,\"Parch\":0,\"Ticket\":\"2676\",\"Fare\":7.225,\"Cabin\":0,\"Embarked\":\"C\",\"CabinCode\":\"0\"},{\"Pclass\":2,\"Name\":\"Bryhl, Miss. Dagmar Jenny Ingeborg \",\"Sex\":\"female\",\"Age\":20.0,\"SibSp\":1,\"Parch\":0,\"Ticket\":\"236853\",\"Fare\":26.0,\"Cabin\":0,\"Embarked\":\"S\",\"CabinCode\":\"0\"},{\"Pclass\":2,\"Name\":\"Parker, Mr. Clifford Richard\",\"Sex\":\"male\",\"Age\":28.0,\"SibSp\":0,\"Parch\":0,\"Ticket\":\"SC 14888\",\"Fare\":10.5,\"Cabin\":0,\"Embarked\":\"S\",\"CabinCode\":\"0\"},{\"Pclass\":2,\"Name\":\"Faunthorpe, Mr. Harry\",\"Sex\":\"male\",\"Age\":40.0,\"SibSp\":1,\"Parch\":0,\"Ticket\":\"2926\",\"Fare\":26.0,\"Cabin\":0,\"Embarked\":\"S\",\"CabinCode\":\"0\"},{\"Pclass\":2,\"Name\":\"Ware, Mr. John James\",\"Sex\":\"male\",\"Age\":30.0,\"SibSp\":1,\"Parch\":0,\"Ticket\":\"CA 31352\",\"Fare\":21.0,\"Cabin\":0,\"Embarked\":\"S\",\"CabinCode\":\"0\"},{\"Pclass\":2,\"Name\":\"Oxenham, Mr. Percy Thomas\",\"Sex\":\"male\",\"Age\":22.0,\"SibSp\":0,\"Parch\":0,\"Ticket\":\"W.\\/C. 14260\",\"Fare\":10.5,\"Cabin\":0,\"Embarked\":\"S\",\"CabinCode\":\"0\"},{\"Pclass\":3,\"Name\":\"Oreskovic, Miss. Jelka\",\"Sex\":\"female\",\"Age\":23.0,\"SibSp\":0,\"Parch\":0,\"Ticket\":\"315085\",\"Fare\":8.6625,\"Cabin\":0,\"Embarked\":\"S\",\"CabinCode\":\"0\"},{\"Pclass\":3,\"Name\":\"Peacock, Master. Alfred Edward\",\"Sex\":\"male\",\"Age\":0.75,\"SibSp\":1,\"Parch\":1,\"Ticket\":\"SOTON\\/O.Q. 3101315\",\"Fare\":13.775,\"Cabin\":0,\"Embarked\":\"S\",\"CabinCode\":\"0\"},{\"Pclass\":3,\"Name\":\"Fleming, Miss. Honora\",\"Sex\":\"female\",\"Age\":null,\"SibSp\":0,\"Parch\":0,\"Ticket\":\"364859\",\"Fare\":7.75,\"Cabin\":0,\"Embarked\":\"Q\",\"CabinCode\":\"0\"},{\"Pclass\":3,\"Name\":\"Touma, Miss. Maria Youssef\",\"Sex\":\"female\",\"Age\":9.0,\"SibSp\":1,\"Parch\":1,\"Ticket\":\"2650\",\"Fare\":15.2458,\"Cabin\":0,\"Embarked\":\"C\",\"CabinCode\":\"0\"},{\"Pclass\":3,\"Name\":\"Rosblom, Miss. Salli Helena\",\"Sex\":\"female\",\"Age\":2.0,\"SibSp\":1,\"Parch\":1,\"Ticket\":\"370129\",\"Fare\":20.2125,\"Cabin\":0,\"Embarked\":\"S\",\"CabinCode\":\"0\"},{\"Pclass\":3,\"Name\":\"Dennis, Mr. William\",\"Sex\":\"male\",\"Age\":36.0,\"SibSp\":0,\"Parch\":0,\"Ticket\":\"A\\/5 21175\",\"Fare\":7.25,\"Cabin\":0,\"Embarked\":\"S\",\"CabinCode\":\"0\"},{\"Pclass\":3,\"Name\":\"Franklin, Mr. Charles (Charles Fardon)\",\"Sex\":\"male\",\"Age\":null,\"SibSp\":0,\"Parch\":0,\"Ticket\":\"SOTON\\/O.Q. 3101314\",\"Fare\":7.25,\"Cabin\":0,\"Embarked\":\"S\",\"CabinCode\":\"0\"},{\"Pclass\":1,\"Name\":\"Snyder, Mr. John Pillsbury\",\"Sex\":\"male\",\"Age\":24.0,\"SibSp\":1,\"Parch\":0,\"Ticket\":\"21228\",\"Fare\":82.2667,\"Cabin\":\"B45\",\"Embarked\":\"S\",\"CabinCode\":\"B\"},{\"Pclass\":3,\"Name\":\"Mardirosian, Mr. Sarkis\",\"Sex\":\"male\",\"Age\":null,\"SibSp\":0,\"Parch\":0,\"Ticket\":\"2655\",\"Fare\":7.2292,\"Cabin\":\"F E46\",\"Embarked\":\"C\",\"CabinCode\":\"F\"},{\"Pclass\":3,\"Name\":\"Ford, Mr. Arthur\",\"Sex\":\"male\",\"Age\":null,\"SibSp\":0,\"Parch\":0,\"Ticket\":\"A\\/5 1478\",\"Fare\":8.05,\"Cabin\":0,\"Embarked\":\"S\",\"CabinCode\":\"0\"},{\"Pclass\":1,\"Name\":\"Rheims, Mr. George Alexander Lucien\",\"Sex\":\"male\",\"Age\":null,\"SibSp\":0,\"Parch\":0,\"Ticket\":\"PC 17607\",\"Fare\":39.6,\"Cabin\":0,\"Embarked\":\"S\",\"CabinCode\":\"0\"},{\"Pclass\":3,\"Name\":\"Daly, Miss. Margaret Marcella Maggie\\\"\\\"\",\"Sex\":\"female\",\"Age\":30.0,\"SibSp\":0,\"Parch\":0,\"Ticket\":\"382650\",\"Fare\":6.95,\"Cabin\":0,\"Embarked\":\"Q\",\"CabinCode\":\"0\"},{\"Pclass\":3,\"Name\":\"Nasr, Mr. Mustafa\",\"Sex\":\"male\",\"Age\":null,\"SibSp\":0,\"Parch\":0,\"Ticket\":\"2652\",\"Fare\":7.2292,\"Cabin\":0,\"Embarked\":\"C\",\"CabinCode\":\"0\"},{\"Pclass\":1,\"Name\":\"Dodge, Dr. Washington\",\"Sex\":\"male\",\"Age\":53.0,\"SibSp\":1,\"Parch\":1,\"Ticket\":\"33638\",\"Fare\":81.8583,\"Cabin\":\"A34\",\"Embarked\":\"S\",\"CabinCode\":\"A\"},{\"Pclass\":3,\"Name\":\"Wittevrongel, Mr. Camille\",\"Sex\":\"male\",\"Age\":36.0,\"SibSp\":0,\"Parch\":0,\"Ticket\":\"345771\",\"Fare\":9.5,\"Cabin\":0,\"Embarked\":\"S\",\"CabinCode\":\"0\"},{\"Pclass\":3,\"Name\":\"Angheloff, Mr. Minko\",\"Sex\":\"male\",\"Age\":26.0,\"SibSp\":0,\"Parch\":0,\"Ticket\":\"349202\",\"Fare\":7.8958,\"Cabin\":0,\"Embarked\":\"S\",\"CabinCode\":\"0\"},{\"Pclass\":2,\"Name\":\"Laroche, Miss. Louise\",\"Sex\":\"female\",\"Age\":1.0,\"SibSp\":1,\"Parch\":2,\"Ticket\":\"SC\\/Paris 2123\",\"Fare\":41.5792,\"Cabin\":0,\"Embarked\":\"C\",\"CabinCode\":\"0\"},{\"Pclass\":3,\"Name\":\"Samaan, Mr. Hanna\",\"Sex\":\"male\",\"Age\":null,\"SibSp\":2,\"Parch\":0,\"Ticket\":\"2662\",\"Fare\":21.6792,\"Cabin\":0,\"Embarked\":\"C\",\"CabinCode\":\"0\"},{\"Pclass\":1,\"Name\":\"Loring, Mr. Joseph Holland\",\"Sex\":\"male\",\"Age\":30.0,\"SibSp\":0,\"Parch\":0,\"Ticket\":\"113801\",\"Fare\":45.5,\"Cabin\":0,\"Embarked\":\"S\",\"CabinCode\":\"0\"},{\"Pclass\":3,\"Name\":\"Johansson, Mr. Nils\",\"Sex\":\"male\",\"Age\":29.0,\"SibSp\":0,\"Parch\":0,\"Ticket\":\"347467\",\"Fare\":7.8542,\"Cabin\":0,\"Embarked\":\"S\",\"CabinCode\":\"0\"},{\"Pclass\":3,\"Name\":\"Olsson, Mr. Oscar Wilhelm\",\"Sex\":\"male\",\"Age\":32.0,\"SibSp\":0,\"Parch\":0,\"Ticket\":\"347079\",\"Fare\":7.775,\"Cabin\":0,\"Embarked\":\"S\",\"CabinCode\":\"0\"},{\"Pclass\":2,\"Name\":\"Malachard, Mr. Noel\",\"Sex\":\"male\",\"Age\":null,\"SibSp\":0,\"Parch\":0,\"Ticket\":\"237735\",\"Fare\":15.0458,\"Cabin\":\"D\",\"Embarked\":\"C\",\"CabinCode\":\"D\"},{\"Pclass\":2,\"Name\":\"Phillips, Mr. Escott Robert\",\"Sex\":\"male\",\"Age\":43.0,\"SibSp\":0,\"Parch\":1,\"Ticket\":\"S.O.\\/P.P. 2\",\"Fare\":21.0,\"Cabin\":0,\"Embarked\":\"S\",\"CabinCode\":\"0\"},{\"Pclass\":3,\"Name\":\"Pokrnic, Mr. Tome\",\"Sex\":\"male\",\"Age\":24.0,\"SibSp\":0,\"Parch\":0,\"Ticket\":\"315092\",\"Fare\":8.6625,\"Cabin\":0,\"Embarked\":\"S\",\"CabinCode\":\"0\"},{\"Pclass\":3,\"Name\":\"McCarthy, Miss. Catherine Katie\\\"\\\"\",\"Sex\":\"female\",\"Age\":null,\"SibSp\":0,\"Parch\":0,\"Ticket\":\"383123\",\"Fare\":7.75,\"Cabin\":0,\"Embarked\":\"Q\",\"CabinCode\":\"0\"},{\"Pclass\":1,\"Name\":\"Crosby, Mrs. Edward Gifford (Catherine Elizabeth Halstead)\",\"Sex\":\"female\",\"Age\":64.0,\"SibSp\":1,\"Parch\":1,\"Ticket\":\"112901\",\"Fare\":26.55,\"Cabin\":\"B26\",\"Embarked\":\"S\",\"CabinCode\":\"B\"},{\"Pclass\":1,\"Name\":\"Allison, Mr. Hudson Joshua Creighton\",\"Sex\":\"male\",\"Age\":30.0,\"SibSp\":1,\"Parch\":2,\"Ticket\":\"113781\",\"Fare\":151.55,\"Cabin\":\"C22 C26\",\"Embarked\":\"S\",\"CabinCode\":\"C\"},{\"Pclass\":3,\"Name\":\"Aks, Master. Philip Frank\",\"Sex\":\"male\",\"Age\":0.83,\"SibSp\":0,\"Parch\":1,\"Ticket\":\"392091\",\"Fare\":9.35,\"Cabin\":0,\"Embarked\":\"S\",\"CabinCode\":\"0\"},{\"Pclass\":1,\"Name\":\"Hays, Mr. Charles Melville\",\"Sex\":\"male\",\"Age\":55.0,\"SibSp\":1,\"Parch\":1,\"Ticket\":\"12749\",\"Fare\":93.5,\"Cabin\":\"B69\",\"Embarked\":\"S\",\"CabinCode\":\"B\"},{\"Pclass\":3,\"Name\":\"Hansen, Mrs. Claus Peter (Jennie L Howard)\",\"Sex\":\"female\",\"Age\":45.0,\"SibSp\":1,\"Parch\":0,\"Ticket\":\"350026\",\"Fare\":14.1083,\"Cabin\":0,\"Embarked\":\"S\",\"CabinCode\":\"0\"},{\"Pclass\":3,\"Name\":\"Cacic, Mr. Jego Grga\",\"Sex\":\"male\",\"Age\":18.0,\"SibSp\":0,\"Parch\":0,\"Ticket\":\"315091\",\"Fare\":8.6625,\"Cabin\":0,\"Embarked\":\"S\",\"CabinCode\":\"0\"},{\"Pclass\":3,\"Name\":\"Vartanian, Mr. David\",\"Sex\":\"male\",\"Age\":22.0,\"SibSp\":0,\"Parch\":0,\"Ticket\":\"2658\",\"Fare\":7.225,\"Cabin\":0,\"Embarked\":\"C\",\"CabinCode\":\"0\"},{\"Pclass\":3,\"Name\":\"Sadowitz, Mr. Harry\",\"Sex\":\"male\",\"Age\":null,\"SibSp\":0,\"Parch\":0,\"Ticket\":\"LP 1588\",\"Fare\":7.575,\"Cabin\":0,\"Embarked\":\"S\",\"CabinCode\":\"0\"},{\"Pclass\":3,\"Name\":\"Carr, Miss. Jeannie\",\"Sex\":\"female\",\"Age\":37.0,\"SibSp\":0,\"Parch\":0,\"Ticket\":\"368364\",\"Fare\":7.75,\"Cabin\":0,\"Embarked\":\"Q\",\"CabinCode\":\"0\"},{\"Pclass\":1,\"Name\":\"White, Mrs. John Stuart (Ella Holmes)\",\"Sex\":\"female\",\"Age\":55.0,\"SibSp\":0,\"Parch\":0,\"Ticket\":\"PC 17760\",\"Fare\":135.6333,\"Cabin\":\"C32\",\"Embarked\":\"C\",\"CabinCode\":\"C\"},{\"Pclass\":3,\"Name\":\"Hagardon, Miss. Kate\",\"Sex\":\"female\",\"Age\":17.0,\"SibSp\":0,\"Parch\":0,\"Ticket\":\"AQ\\/3. 30631\",\"Fare\":7.7333,\"Cabin\":0,\"Embarked\":\"Q\",\"CabinCode\":\"0\"},{\"Pclass\":1,\"Name\":\"Spencer, Mr. William Augustus\",\"Sex\":\"male\",\"Age\":57.0,\"SibSp\":1,\"Parch\":0,\"Ticket\":\"PC 17569\",\"Fare\":146.5208,\"Cabin\":\"B78\",\"Embarked\":\"C\",\"CabinCode\":\"B\"},{\"Pclass\":2,\"Name\":\"Rogers, Mr. Reginald Harry\",\"Sex\":\"male\",\"Age\":19.0,\"SibSp\":0,\"Parch\":0,\"Ticket\":\"28004\",\"Fare\":10.5,\"Cabin\":0,\"Embarked\":\"S\",\"CabinCode\":\"0\"},{\"Pclass\":3,\"Name\":\"Jonsson, Mr. Nils Hilding\",\"Sex\":\"male\",\"Age\":27.0,\"SibSp\":0,\"Parch\":0,\"Ticket\":\"350408\",\"Fare\":7.8542,\"Cabin\":0,\"Embarked\":\"S\",\"CabinCode\":\"0\"},{\"Pclass\":2,\"Name\":\"Jefferys, Mr. Ernest Wilfred\",\"Sex\":\"male\",\"Age\":22.0,\"SibSp\":2,\"Parch\":0,\"Ticket\":\"C.A. 31029\",\"Fare\":31.5,\"Cabin\":0,\"Embarked\":\"S\",\"CabinCode\":\"0\"},{\"Pclass\":3,\"Name\":\"Andersson, Mr. Johan Samuel\",\"Sex\":\"male\",\"Age\":26.0,\"SibSp\":0,\"Parch\":0,\"Ticket\":\"347075\",\"Fare\":7.775,\"Cabin\":0,\"Embarked\":\"S\",\"CabinCode\":\"0\"},{\"Pclass\":3,\"Name\":\"Krekorian, Mr. Neshan\",\"Sex\":\"male\",\"Age\":25.0,\"SibSp\":0,\"Parch\":0,\"Ticket\":\"2654\",\"Fare\":7.2292,\"Cabin\":\"F E57\",\"Embarked\":\"C\",\"CabinCode\":\"F\"},{\"Pclass\":2,\"Name\":\"Nesson, Mr. Israel\",\"Sex\":\"male\",\"Age\":26.0,\"SibSp\":0,\"Parch\":0,\"Ticket\":\"244368\",\"Fare\":13.0,\"Cabin\":\"F2\",\"Embarked\":\"S\",\"CabinCode\":\"F\"},{\"Pclass\":1,\"Name\":\"Rowe, Mr. Alfred G\",\"Sex\":\"male\",\"Age\":33.0,\"SibSp\":0,\"Parch\":0,\"Ticket\":\"113790\",\"Fare\":26.55,\"Cabin\":0,\"Embarked\":\"S\",\"CabinCode\":\"0\"},{\"Pclass\":1,\"Name\":\"Kreuchen, Miss. Emilie\",\"Sex\":\"female\",\"Age\":39.0,\"SibSp\":0,\"Parch\":0,\"Ticket\":\"24160\",\"Fare\":211.3375,\"Cabin\":0,\"Embarked\":\"S\",\"CabinCode\":\"0\"},{\"Pclass\":3,\"Name\":\"Assam, Mr. Ali\",\"Sex\":\"male\",\"Age\":23.0,\"SibSp\":0,\"Parch\":0,\"Ticket\":\"SOTON\\/O.Q. 3101309\",\"Fare\":7.05,\"Cabin\":0,\"Embarked\":\"S\",\"CabinCode\":\"0\"},{\"Pclass\":2,\"Name\":\"Becker, Miss. Ruth Elizabeth\",\"Sex\":\"female\",\"Age\":12.0,\"SibSp\":2,\"Parch\":1,\"Ticket\":\"230136\",\"Fare\":39.0,\"Cabin\":\"F4\",\"Embarked\":\"S\",\"CabinCode\":\"F\"},{\"Pclass\":1,\"Name\":\"Rosenshine, Mr. George (Mr George Thorne\\\")\\\"\",\"Sex\":\"male\",\"Age\":46.0,\"SibSp\":0,\"Parch\":0,\"Ticket\":\"PC 17585\",\"Fare\":79.2,\"Cabin\":0,\"Embarked\":\"C\",\"CabinCode\":\"0\"},{\"Pclass\":2,\"Name\":\"Clarke, Mr. Charles Valentine\",\"Sex\":\"male\",\"Age\":29.0,\"SibSp\":1,\"Parch\":0,\"Ticket\":\"2003\",\"Fare\":26.0,\"Cabin\":0,\"Embarked\":\"S\",\"CabinCode\":\"0\"},{\"Pclass\":2,\"Name\":\"Enander, Mr. Ingvar\",\"Sex\":\"male\",\"Age\":21.0,\"SibSp\":0,\"Parch\":0,\"Ticket\":\"236854\",\"Fare\":13.0,\"Cabin\":0,\"Embarked\":\"S\",\"CabinCode\":\"0\"},{\"Pclass\":2,\"Name\":\"Davies, Mrs. John Morgan (Elizabeth Agnes Mary White) \",\"Sex\":\"female\",\"Age\":48.0,\"SibSp\":0,\"Parch\":2,\"Ticket\":\"C.A. 33112\",\"Fare\":36.75,\"Cabin\":0,\"Embarked\":\"S\",\"CabinCode\":\"0\"},{\"Pclass\":1,\"Name\":\"Dulles, Mr. William Crothers\",\"Sex\":\"male\",\"Age\":39.0,\"SibSp\":0,\"Parch\":0,\"Ticket\":\"PC 17580\",\"Fare\":29.7,\"Cabin\":\"A18\",\"Embarked\":\"C\",\"CabinCode\":\"A\"},{\"Pclass\":3,\"Name\":\"Thomas, Mr. Tannous\",\"Sex\":\"male\",\"Age\":null,\"SibSp\":0,\"Parch\":0,\"Ticket\":\"2684\",\"Fare\":7.225,\"Cabin\":0,\"Embarked\":\"C\",\"CabinCode\":\"0\"},{\"Pclass\":3,\"Name\":\"Nakid, Mrs. Said (Waika Mary\\\" Mowad)\\\"\",\"Sex\":\"female\",\"Age\":19.0,\"SibSp\":1,\"Parch\":1,\"Ticket\":\"2653\",\"Fare\":15.7417,\"Cabin\":0,\"Embarked\":\"C\",\"CabinCode\":\"0\"},{\"Pclass\":3,\"Name\":\"Cor, Mr. Ivan\",\"Sex\":\"male\",\"Age\":27.0,\"SibSp\":0,\"Parch\":0,\"Ticket\":\"349229\",\"Fare\":7.8958,\"Cabin\":0,\"Embarked\":\"S\",\"CabinCode\":\"0\"},{\"Pclass\":1,\"Name\":\"Maguire, Mr. John Edward\",\"Sex\":\"male\",\"Age\":30.0,\"SibSp\":0,\"Parch\":0,\"Ticket\":\"110469\",\"Fare\":26.0,\"Cabin\":\"C106\",\"Embarked\":\"S\",\"CabinCode\":\"C\"},{\"Pclass\":2,\"Name\":\"de Brito, Mr. Jose Joaquim\",\"Sex\":\"male\",\"Age\":32.0,\"SibSp\":0,\"Parch\":0,\"Ticket\":\"244360\",\"Fare\":13.0,\"Cabin\":0,\"Embarked\":\"S\",\"CabinCode\":\"0\"},{\"Pclass\":3,\"Name\":\"Elias, Mr. Joseph\",\"Sex\":\"male\",\"Age\":39.0,\"SibSp\":0,\"Parch\":2,\"Ticket\":\"2675\",\"Fare\":7.2292,\"Cabin\":0,\"Embarked\":\"C\",\"CabinCode\":\"0\"},{\"Pclass\":2,\"Name\":\"Denbury, Mr. Herbert\",\"Sex\":\"male\",\"Age\":25.0,\"SibSp\":0,\"Parch\":0,\"Ticket\":\"C.A. 31029\",\"Fare\":31.5,\"Cabin\":0,\"Embarked\":\"S\",\"CabinCode\":\"0\"},{\"Pclass\":3,\"Name\":\"Betros, Master. Seman\",\"Sex\":\"male\",\"Age\":null,\"SibSp\":0,\"Parch\":0,\"Ticket\":\"2622\",\"Fare\":7.2292,\"Cabin\":0,\"Embarked\":\"C\",\"CabinCode\":\"0\"},{\"Pclass\":2,\"Name\":\"Fillbrook, Mr. Joseph Charles\",\"Sex\":\"male\",\"Age\":18.0,\"SibSp\":0,\"Parch\":0,\"Ticket\":\"C.A. 15185\",\"Fare\":10.5,\"Cabin\":0,\"Embarked\":\"S\",\"CabinCode\":\"0\"},{\"Pclass\":3,\"Name\":\"Lundstrom, Mr. Thure Edvin\",\"Sex\":\"male\",\"Age\":32.0,\"SibSp\":0,\"Parch\":0,\"Ticket\":\"350403\",\"Fare\":7.5792,\"Cabin\":0,\"Embarked\":\"S\",\"CabinCode\":\"0\"},{\"Pclass\":3,\"Name\":\"Sage, Mr. John George\",\"Sex\":\"male\",\"Age\":null,\"SibSp\":1,\"Parch\":9,\"Ticket\":\"CA. 2343\",\"Fare\":69.55,\"Cabin\":0,\"Embarked\":\"S\",\"CabinCode\":\"0\"},{\"Pclass\":1,\"Name\":\"Cardeza, Mrs. James Warburton Martinez (Charlotte Wardle Drake)\",\"Sex\":\"female\",\"Age\":58.0,\"SibSp\":0,\"Parch\":1,\"Ticket\":\"PC 17755\",\"Fare\":512.3292,\"Cabin\":\"B51 B53 B55\",\"Embarked\":\"C\",\"CabinCode\":\"B\"},{\"Pclass\":3,\"Name\":\"van Billiard, Master. James William\",\"Sex\":\"male\",\"Age\":null,\"SibSp\":1,\"Parch\":1,\"Ticket\":\"A\\/5. 851\",\"Fare\":14.5,\"Cabin\":0,\"Embarked\":\"S\",\"CabinCode\":\"0\"},{\"Pclass\":3,\"Name\":\"Abelseth, Miss. Karen Marie\",\"Sex\":\"female\",\"Age\":16.0,\"SibSp\":0,\"Parch\":0,\"Ticket\":\"348125\",\"Fare\":7.65,\"Cabin\":0,\"Embarked\":\"S\",\"CabinCode\":\"0\"},{\"Pclass\":2,\"Name\":\"Botsford, Mr. William Hull\",\"Sex\":\"male\",\"Age\":26.0,\"SibSp\":0,\"Parch\":0,\"Ticket\":\"237670\",\"Fare\":13.0,\"Cabin\":0,\"Embarked\":\"S\",\"CabinCode\":\"0\"},{\"Pclass\":3,\"Name\":\"Whabee, Mrs. George Joseph (Shawneene Abi-Saab)\",\"Sex\":\"female\",\"Age\":38.0,\"SibSp\":0,\"Parch\":0,\"Ticket\":\"2688\",\"Fare\":7.2292,\"Cabin\":0,\"Embarked\":\"C\",\"CabinCode\":\"0\"},{\"Pclass\":2,\"Name\":\"Giles, Mr. Ralph\",\"Sex\":\"male\",\"Age\":24.0,\"SibSp\":0,\"Parch\":0,\"Ticket\":\"248726\",\"Fare\":13.5,\"Cabin\":0,\"Embarked\":\"S\",\"CabinCode\":\"0\"},{\"Pclass\":2,\"Name\":\"Walcroft, Miss. Nellie\",\"Sex\":\"female\",\"Age\":31.0,\"SibSp\":0,\"Parch\":0,\"Ticket\":\"F.C.C. 13528\",\"Fare\":21.0,\"Cabin\":0,\"Embarked\":\"S\",\"CabinCode\":\"0\"},{\"Pclass\":1,\"Name\":\"Greenfield, Mrs. Leo David (Blanche Strouse)\",\"Sex\":\"female\",\"Age\":45.0,\"SibSp\":0,\"Parch\":1,\"Ticket\":\"PC 17759\",\"Fare\":63.3583,\"Cabin\":\"D10 D12\",\"Embarked\":\"C\",\"CabinCode\":\"D\"},{\"Pclass\":2,\"Name\":\"Stokes, Mr. Philip Joseph\",\"Sex\":\"male\",\"Age\":25.0,\"SibSp\":0,\"Parch\":0,\"Ticket\":\"F.C.C. 13540\",\"Fare\":10.5,\"Cabin\":0,\"Embarked\":\"S\",\"CabinCode\":\"0\"},{\"Pclass\":2,\"Name\":\"Dibden, Mr. William\",\"Sex\":\"male\",\"Age\":18.0,\"SibSp\":0,\"Parch\":0,\"Ticket\":\"S.O.C. 14879\",\"Fare\":73.5,\"Cabin\":0,\"Embarked\":\"S\",\"CabinCode\":\"0\"},{\"Pclass\":2,\"Name\":\"Herman, Mr. Samuel\",\"Sex\":\"male\",\"Age\":49.0,\"SibSp\":1,\"Parch\":2,\"Ticket\":\"220845\",\"Fare\":65.0,\"Cabin\":0,\"Embarked\":\"S\",\"CabinCode\":\"0\"},{\"Pclass\":3,\"Name\":\"Dean, Miss. Elizabeth Gladys Millvina\\\"\\\"\",\"Sex\":\"female\",\"Age\":0.17,\"SibSp\":1,\"Parch\":2,\"Ticket\":\"C.A. 2315\",\"Fare\":20.575,\"Cabin\":0,\"Embarked\":\"S\",\"CabinCode\":\"0\"},{\"Pclass\":1,\"Name\":\"Julian, Mr. Henry Forbes\",\"Sex\":\"male\",\"Age\":50.0,\"SibSp\":0,\"Parch\":0,\"Ticket\":\"113044\",\"Fare\":26.0,\"Cabin\":\"E60\",\"Embarked\":\"S\",\"CabinCode\":\"E\"},{\"Pclass\":1,\"Name\":\"Brown, Mrs. John Murray (Caroline Lane Lamson)\",\"Sex\":\"female\",\"Age\":59.0,\"SibSp\":2,\"Parch\":0,\"Ticket\":\"11769\",\"Fare\":51.4792,\"Cabin\":\"C101\",\"Embarked\":\"S\",\"CabinCode\":\"C\"},{\"Pclass\":3,\"Name\":\"Lockyer, Mr. Edward\",\"Sex\":\"male\",\"Age\":null,\"SibSp\":0,\"Parch\":0,\"Ticket\":\"1222\",\"Fare\":7.8792,\"Cabin\":0,\"Embarked\":\"S\",\"CabinCode\":\"0\"},{\"Pclass\":3,\"Name\":\"O'Keefe, Mr. Patrick\",\"Sex\":\"male\",\"Age\":null,\"SibSp\":0,\"Parch\":0,\"Ticket\":\"368402\",\"Fare\":7.75,\"Cabin\":0,\"Embarked\":\"Q\",\"CabinCode\":\"0\"},{\"Pclass\":3,\"Name\":\"Lindell, Mrs. Edvard Bengtsson (Elin Gerda Persson)\",\"Sex\":\"female\",\"Age\":30.0,\"SibSp\":1,\"Parch\":0,\"Ticket\":\"349910\",\"Fare\":15.55,\"Cabin\":0,\"Embarked\":\"S\",\"CabinCode\":\"0\"},{\"Pclass\":3,\"Name\":\"Sage, Master. William Henry\",\"Sex\":\"male\",\"Age\":14.5,\"SibSp\":8,\"Parch\":2,\"Ticket\":\"CA. 2343\",\"Fare\":69.55,\"Cabin\":0,\"Embarked\":\"S\",\"CabinCode\":\"0\"},{\"Pclass\":2,\"Name\":\"Mallet, Mrs. Albert (Antoinette Magnin)\",\"Sex\":\"female\",\"Age\":24.0,\"SibSp\":1,\"Parch\":1,\"Ticket\":\"S.C.\\/PARIS 2079\",\"Fare\":37.0042,\"Cabin\":0,\"Embarked\":\"C\",\"CabinCode\":\"0\"},{\"Pclass\":2,\"Name\":\"Ware, Mrs. John James (Florence Louise Long)\",\"Sex\":\"female\",\"Age\":31.0,\"SibSp\":0,\"Parch\":0,\"Ticket\":\"CA 31352\",\"Fare\":21.0,\"Cabin\":0,\"Embarked\":\"S\",\"CabinCode\":\"0\"},{\"Pclass\":3,\"Name\":\"Strilic, Mr. Ivan\",\"Sex\":\"male\",\"Age\":27.0,\"SibSp\":0,\"Parch\":0,\"Ticket\":\"315083\",\"Fare\":8.6625,\"Cabin\":0,\"Embarked\":\"S\",\"CabinCode\":\"0\"},{\"Pclass\":1,\"Name\":\"Harder, Mrs. George Achilles (Dorothy Annan)\",\"Sex\":\"female\",\"Age\":25.0,\"SibSp\":1,\"Parch\":0,\"Ticket\":\"11765\",\"Fare\":55.4417,\"Cabin\":\"E50\",\"Embarked\":\"C\",\"CabinCode\":\"E\"},{\"Pclass\":3,\"Name\":\"Sage, Mrs. John (Annie Bullen)\",\"Sex\":\"female\",\"Age\":null,\"SibSp\":1,\"Parch\":9,\"Ticket\":\"CA. 2343\",\"Fare\":69.55,\"Cabin\":0,\"Embarked\":\"S\",\"CabinCode\":\"0\"},{\"Pclass\":3,\"Name\":\"Caram, Mr. Joseph\",\"Sex\":\"male\",\"Age\":null,\"SibSp\":1,\"Parch\":0,\"Ticket\":\"2689\",\"Fare\":14.4583,\"Cabin\":0,\"Embarked\":\"C\",\"CabinCode\":\"0\"},{\"Pclass\":3,\"Name\":\"Riihivouri, Miss. Susanna Juhantytar Sanni\\\"\\\"\",\"Sex\":\"female\",\"Age\":22.0,\"SibSp\":0,\"Parch\":0,\"Ticket\":\"3101295\",\"Fare\":39.6875,\"Cabin\":0,\"Embarked\":\"S\",\"CabinCode\":\"0\"},{\"Pclass\":1,\"Name\":\"Gibson, Mrs. Leonard (Pauline C Boeson)\",\"Sex\":\"female\",\"Age\":45.0,\"SibSp\":0,\"Parch\":1,\"Ticket\":\"112378\",\"Fare\":59.4,\"Cabin\":0,\"Embarked\":\"C\",\"CabinCode\":\"0\"},{\"Pclass\":2,\"Name\":\"Pallas y Castello, Mr. Emilio\",\"Sex\":\"male\",\"Age\":29.0,\"SibSp\":0,\"Parch\":0,\"Ticket\":\"SC\\/PARIS 2147\",\"Fare\":13.8583,\"Cabin\":0,\"Embarked\":\"C\",\"CabinCode\":\"0\"},{\"Pclass\":2,\"Name\":\"Giles, Mr. Edgar\",\"Sex\":\"male\",\"Age\":21.0,\"SibSp\":1,\"Parch\":0,\"Ticket\":\"28133\",\"Fare\":11.5,\"Cabin\":0,\"Embarked\":\"S\",\"CabinCode\":\"0\"},{\"Pclass\":1,\"Name\":\"Wilson, Miss. Helen Alice\",\"Sex\":\"female\",\"Age\":31.0,\"SibSp\":0,\"Parch\":0,\"Ticket\":\"16966\",\"Fare\":134.5,\"Cabin\":\"E39 E41\",\"Embarked\":\"C\",\"CabinCode\":\"E\"},{\"Pclass\":1,\"Name\":\"Ismay, Mr. Joseph Bruce\",\"Sex\":\"male\",\"Age\":49.0,\"SibSp\":0,\"Parch\":0,\"Ticket\":\"112058\",\"Fare\":0.0,\"Cabin\":\"B52 B54 B56\",\"Embarked\":\"S\",\"CabinCode\":\"B\"},{\"Pclass\":2,\"Name\":\"Harbeck, Mr. William H\",\"Sex\":\"male\",\"Age\":44.0,\"SibSp\":0,\"Parch\":0,\"Ticket\":\"248746\",\"Fare\":13.0,\"Cabin\":0,\"Embarked\":\"S\",\"CabinCode\":\"0\"},{\"Pclass\":1,\"Name\":\"Dodge, Mrs. Washington (Ruth Vidaver)\",\"Sex\":\"female\",\"Age\":54.0,\"SibSp\":1,\"Parch\":1,\"Ticket\":\"33638\",\"Fare\":81.8583,\"Cabin\":\"A34\",\"Embarked\":\"S\",\"CabinCode\":\"A\"},{\"Pclass\":1,\"Name\":\"Bowen, Miss. Grace Scott\",\"Sex\":\"female\",\"Age\":45.0,\"SibSp\":0,\"Parch\":0,\"Ticket\":\"PC 17608\",\"Fare\":262.375,\"Cabin\":0,\"Embarked\":\"C\",\"CabinCode\":\"0\"},{\"Pclass\":3,\"Name\":\"Kink, Miss. Maria\",\"Sex\":\"female\",\"Age\":22.0,\"SibSp\":2,\"Parch\":0,\"Ticket\":\"315152\",\"Fare\":8.6625,\"Cabin\":0,\"Embarked\":\"S\",\"CabinCode\":\"0\"},{\"Pclass\":2,\"Name\":\"Cotterill, Mr. Henry Harry\\\"\\\"\",\"Sex\":\"male\",\"Age\":21.0,\"SibSp\":0,\"Parch\":0,\"Ticket\":\"29107\",\"Fare\":11.5,\"Cabin\":0,\"Embarked\":\"S\",\"CabinCode\":\"0\"},{\"Pclass\":1,\"Name\":\"Hipkins, Mr. William Edward\",\"Sex\":\"male\",\"Age\":55.0,\"SibSp\":0,\"Parch\":0,\"Ticket\":\"680\",\"Fare\":50.0,\"Cabin\":\"C39\",\"Embarked\":\"S\",\"CabinCode\":\"C\"},{\"Pclass\":3,\"Name\":\"Asplund, Master. Carl Edgar\",\"Sex\":\"male\",\"Age\":5.0,\"SibSp\":4,\"Parch\":2,\"Ticket\":\"347077\",\"Fare\":31.3875,\"Cabin\":0,\"Embarked\":\"S\",\"CabinCode\":\"0\"},{\"Pclass\":3,\"Name\":\"O'Connor, Mr. Patrick\",\"Sex\":\"male\",\"Age\":null,\"SibSp\":0,\"Parch\":0,\"Ticket\":\"366713\",\"Fare\":7.75,\"Cabin\":0,\"Embarked\":\"Q\",\"CabinCode\":\"0\"},{\"Pclass\":3,\"Name\":\"Foley, Mr. Joseph\",\"Sex\":\"male\",\"Age\":26.0,\"SibSp\":0,\"Parch\":0,\"Ticket\":\"330910\",\"Fare\":7.8792,\"Cabin\":0,\"Embarked\":\"Q\",\"CabinCode\":\"0\"},{\"Pclass\":3,\"Name\":\"Risien, Mrs. Samuel (Emma)\",\"Sex\":\"female\",\"Age\":null,\"SibSp\":0,\"Parch\":0,\"Ticket\":\"364498\",\"Fare\":14.5,\"Cabin\":0,\"Embarked\":\"S\",\"CabinCode\":\"0\"},{\"Pclass\":3,\"Name\":\"McNamee, Mrs. Neal (Eileen O'Leary)\",\"Sex\":\"female\",\"Age\":19.0,\"SibSp\":1,\"Parch\":0,\"Ticket\":\"376566\",\"Fare\":16.1,\"Cabin\":0,\"Embarked\":\"S\",\"CabinCode\":\"0\"},{\"Pclass\":2,\"Name\":\"Wheeler, Mr. Edwin Frederick\\\"\\\"\",\"Sex\":\"male\",\"Age\":null,\"SibSp\":0,\"Parch\":0,\"Ticket\":\"SC\\/PARIS 2159\",\"Fare\":12.875,\"Cabin\":0,\"Embarked\":\"S\",\"CabinCode\":\"0\"},{\"Pclass\":2,\"Name\":\"Herman, Miss. Kate\",\"Sex\":\"female\",\"Age\":24.0,\"SibSp\":1,\"Parch\":2,\"Ticket\":\"220845\",\"Fare\":65.0,\"Cabin\":0,\"Embarked\":\"S\",\"CabinCode\":\"0\"},{\"Pclass\":3,\"Name\":\"Aronsson, Mr. Ernst Axel Algot\",\"Sex\":\"male\",\"Age\":24.0,\"SibSp\":0,\"Parch\":0,\"Ticket\":\"349911\",\"Fare\":7.775,\"Cabin\":0,\"Embarked\":\"S\",\"CabinCode\":\"0\"},{\"Pclass\":2,\"Name\":\"Ashby, Mr. John\",\"Sex\":\"male\",\"Age\":57.0,\"SibSp\":0,\"Parch\":0,\"Ticket\":\"244346\",\"Fare\":13.0,\"Cabin\":0,\"Embarked\":\"S\",\"CabinCode\":\"0\"},{\"Pclass\":3,\"Name\":\"Canavan, Mr. Patrick\",\"Sex\":\"male\",\"Age\":21.0,\"SibSp\":0,\"Parch\":0,\"Ticket\":\"364858\",\"Fare\":7.75,\"Cabin\":0,\"Embarked\":\"Q\",\"CabinCode\":\"0\"},{\"Pclass\":3,\"Name\":\"Palsson, Master. Paul Folke\",\"Sex\":\"male\",\"Age\":6.0,\"SibSp\":3,\"Parch\":1,\"Ticket\":\"349909\",\"Fare\":21.075,\"Cabin\":0,\"Embarked\":\"S\",\"CabinCode\":\"0\"},{\"Pclass\":1,\"Name\":\"Payne, Mr. Vivian Ponsonby\",\"Sex\":\"male\",\"Age\":23.0,\"SibSp\":0,\"Parch\":0,\"Ticket\":\"12749\",\"Fare\":93.5,\"Cabin\":\"B24\",\"Embarked\":\"S\",\"CabinCode\":\"B\"},{\"Pclass\":1,\"Name\":\"Lines, Mrs. Ernest H (Elizabeth Lindsey James)\",\"Sex\":\"female\",\"Age\":51.0,\"SibSp\":0,\"Parch\":1,\"Ticket\":\"PC 17592\",\"Fare\":39.4,\"Cabin\":\"D28\",\"Embarked\":\"S\",\"CabinCode\":\"D\"},{\"Pclass\":3,\"Name\":\"Abbott, Master. Eugene Joseph\",\"Sex\":\"male\",\"Age\":13.0,\"SibSp\":0,\"Parch\":2,\"Ticket\":\"C.A. 2673\",\"Fare\":20.25,\"Cabin\":0,\"Embarked\":\"S\",\"CabinCode\":\"0\"},{\"Pclass\":2,\"Name\":\"Gilbert, Mr. William\",\"Sex\":\"male\",\"Age\":47.0,\"SibSp\":0,\"Parch\":0,\"Ticket\":\"C.A. 30769\",\"Fare\":10.5,\"Cabin\":0,\"Embarked\":\"S\",\"CabinCode\":\"0\"},{\"Pclass\":3,\"Name\":\"Kink-Heilmann, Mr. Anton\",\"Sex\":\"male\",\"Age\":29.0,\"SibSp\":3,\"Parch\":1,\"Ticket\":\"315153\",\"Fare\":22.025,\"Cabin\":0,\"Embarked\":\"S\",\"CabinCode\":\"0\"},{\"Pclass\":1,\"Name\":\"Smith, Mrs. Lucien Philip (Mary Eloise Hughes)\",\"Sex\":\"female\",\"Age\":18.0,\"SibSp\":1,\"Parch\":0,\"Ticket\":\"13695\",\"Fare\":60.0,\"Cabin\":\"C31\",\"Embarked\":\"S\",\"CabinCode\":\"C\"},{\"Pclass\":3,\"Name\":\"Colbert, Mr. Patrick\",\"Sex\":\"male\",\"Age\":24.0,\"SibSp\":0,\"Parch\":0,\"Ticket\":\"371109\",\"Fare\":7.25,\"Cabin\":0,\"Embarked\":\"Q\",\"CabinCode\":\"0\"},{\"Pclass\":1,\"Name\":\"Frolicher-Stehli, Mrs. Maxmillian (Margaretha Emerentia Stehli)\",\"Sex\":\"female\",\"Age\":48.0,\"SibSp\":1,\"Parch\":1,\"Ticket\":\"13567\",\"Fare\":79.2,\"Cabin\":\"B41\",\"Embarked\":\"C\",\"CabinCode\":\"B\"},{\"Pclass\":3,\"Name\":\"Larsson-Rondberg, Mr. Edvard A\",\"Sex\":\"male\",\"Age\":22.0,\"SibSp\":0,\"Parch\":0,\"Ticket\":\"347065\",\"Fare\":7.775,\"Cabin\":0,\"Embarked\":\"S\",\"CabinCode\":\"0\"},{\"Pclass\":3,\"Name\":\"Conlon, Mr. Thomas Henry\",\"Sex\":\"male\",\"Age\":31.0,\"SibSp\":0,\"Parch\":0,\"Ticket\":\"21332\",\"Fare\":7.7333,\"Cabin\":0,\"Embarked\":\"Q\",\"CabinCode\":\"0\"},{\"Pclass\":1,\"Name\":\"Bonnell, Miss. Caroline\",\"Sex\":\"female\",\"Age\":30.0,\"SibSp\":0,\"Parch\":0,\"Ticket\":\"36928\",\"Fare\":164.8667,\"Cabin\":\"C7\",\"Embarked\":\"S\",\"CabinCode\":\"C\"},{\"Pclass\":2,\"Name\":\"Gale, Mr. Harry\",\"Sex\":\"male\",\"Age\":38.0,\"SibSp\":1,\"Parch\":0,\"Ticket\":\"28664\",\"Fare\":21.0,\"Cabin\":0,\"Embarked\":\"S\",\"CabinCode\":\"0\"},{\"Pclass\":1,\"Name\":\"Gibson, Miss. Dorothy Winifred\",\"Sex\":\"female\",\"Age\":22.0,\"SibSp\":0,\"Parch\":1,\"Ticket\":\"112378\",\"Fare\":59.4,\"Cabin\":0,\"Embarked\":\"C\",\"CabinCode\":\"0\"},{\"Pclass\":1,\"Name\":\"Carrau, Mr. Jose Pedro\",\"Sex\":\"male\",\"Age\":17.0,\"SibSp\":0,\"Parch\":0,\"Ticket\":\"113059\",\"Fare\":47.1,\"Cabin\":0,\"Embarked\":\"S\",\"CabinCode\":\"0\"},{\"Pclass\":1,\"Name\":\"Frauenthal, Mr. Isaac Gerald\",\"Sex\":\"male\",\"Age\":43.0,\"SibSp\":1,\"Parch\":0,\"Ticket\":\"17765\",\"Fare\":27.7208,\"Cabin\":\"D40\",\"Embarked\":\"C\",\"CabinCode\":\"D\"},{\"Pclass\":2,\"Name\":\"Nourney, Mr. Alfred (Baron von Drachstedt\\\")\\\"\",\"Sex\":\"male\",\"Age\":20.0,\"SibSp\":0,\"Parch\":0,\"Ticket\":\"SC\\/PARIS 2166\",\"Fare\":13.8625,\"Cabin\":\"D38\",\"Embarked\":\"C\",\"CabinCode\":\"D\"},{\"Pclass\":2,\"Name\":\"Ware, Mr. William Jeffery\",\"Sex\":\"male\",\"Age\":23.0,\"SibSp\":1,\"Parch\":0,\"Ticket\":\"28666\",\"Fare\":10.5,\"Cabin\":0,\"Embarked\":\"S\",\"CabinCode\":\"0\"},{\"Pclass\":1,\"Name\":\"Widener, Mr. George Dunton\",\"Sex\":\"male\",\"Age\":50.0,\"SibSp\":1,\"Parch\":1,\"Ticket\":\"113503\",\"Fare\":211.5,\"Cabin\":\"C80\",\"Embarked\":\"C\",\"CabinCode\":\"C\"},{\"Pclass\":3,\"Name\":\"Riordan, Miss. Johanna Hannah\\\"\\\"\",\"Sex\":\"female\",\"Age\":null,\"SibSp\":0,\"Parch\":0,\"Ticket\":\"334915\",\"Fare\":7.7208,\"Cabin\":0,\"Embarked\":\"Q\",\"CabinCode\":\"0\"},{\"Pclass\":3,\"Name\":\"Peacock, Miss. Treasteall\",\"Sex\":\"female\",\"Age\":3.0,\"SibSp\":1,\"Parch\":1,\"Ticket\":\"SOTON\\/O.Q. 3101315\",\"Fare\":13.775,\"Cabin\":0,\"Embarked\":\"S\",\"CabinCode\":\"0\"},{\"Pclass\":3,\"Name\":\"Naughton, Miss. Hannah\",\"Sex\":\"female\",\"Age\":null,\"SibSp\":0,\"Parch\":0,\"Ticket\":\"365237\",\"Fare\":7.75,\"Cabin\":0,\"Embarked\":\"Q\",\"CabinCode\":\"0\"},{\"Pclass\":1,\"Name\":\"Minahan, Mrs. William Edward (Lillian E Thorpe)\",\"Sex\":\"female\",\"Age\":37.0,\"SibSp\":1,\"Parch\":0,\"Ticket\":\"19928\",\"Fare\":90.0,\"Cabin\":\"C78\",\"Embarked\":\"Q\",\"CabinCode\":\"C\"},{\"Pclass\":3,\"Name\":\"Henriksson, Miss. Jenny Lovisa\",\"Sex\":\"female\",\"Age\":28.0,\"SibSp\":0,\"Parch\":0,\"Ticket\":\"347086\",\"Fare\":7.775,\"Cabin\":0,\"Embarked\":\"S\",\"CabinCode\":\"0\"},{\"Pclass\":3,\"Name\":\"Spector, Mr. Woolf\",\"Sex\":\"male\",\"Age\":null,\"SibSp\":0,\"Parch\":0,\"Ticket\":\"A.5. 3236\",\"Fare\":8.05,\"Cabin\":0,\"Embarked\":\"S\",\"CabinCode\":\"0\"},{\"Pclass\":1,\"Name\":\"Oliva y Ocana, Dona. Fermina\",\"Sex\":\"female\",\"Age\":39.0,\"SibSp\":0,\"Parch\":0,\"Ticket\":\"PC 17758\",\"Fare\":108.9,\"Cabin\":\"C105\",\"Embarked\":\"C\",\"CabinCode\":\"C\"},{\"Pclass\":3,\"Name\":\"Saether, Mr. Simon Sivertsen\",\"Sex\":\"male\",\"Age\":38.5,\"SibSp\":0,\"Parch\":0,\"Ticket\":\"SOTON\\/O.Q. 3101262\",\"Fare\":7.25,\"Cabin\":0,\"Embarked\":\"S\",\"CabinCode\":\"0\"},{\"Pclass\":3,\"Name\":\"Ware, Mr. Frederick\",\"Sex\":\"male\",\"Age\":null,\"SibSp\":0,\"Parch\":0,\"Ticket\":\"359309\",\"Fare\":8.05,\"Cabin\":0,\"Embarked\":\"S\",\"CabinCode\":\"0\"},{\"Pclass\":3,\"Name\":\"Peter, Master. Michael J\",\"Sex\":\"male\",\"Age\":null,\"SibSp\":1,\"Parch\":1,\"Ticket\":\"2668\",\"Fare\":22.3583,\"Cabin\":0,\"Embarked\":\"C\",\"CabinCode\":\"0\"}];\n",
       "          document.querySelector(\"#elem\").data = data;\n",
       "        </script>"
      ],
      "text/plain": [
       "<IPython.core.display.HTML object>"
      ]
     },
     "metadata": {},
     "output_type": "display_data"
    }
   ],
   "source": [
    "#Display the Dive visualization for the training data.\n",
    "from IPython.core.display import display, HTML\n",
    "\n",
    "jsonstr = test.to_json(orient='records')\n",
    "HTML_TEMPLATE = \"\"\"<link rel=\"import\" href=\"https://raw.githubusercontent.com/PAIR-code/facets/master/facets-dist/facets-jupyter.html\">\n",
    "        <facets-dive id=\"elem\" height=\"600\"></facets-dive>\n",
    "        <script>\n",
    "          var data = {jsonstr};\n",
    "          document.querySelector(\"#elem\").data = data;\n",
    "        </script>\"\"\"\n",
    "html = HTML_TEMPLATE.format(jsonstr=jsonstr)\n",
    "display(HTML(html))"
   ]
  },
  {
   "cell_type": "code",
   "execution_count": 9,
   "metadata": {
    "colab": {},
    "colab_type": "code",
    "collapsed": true,
    "id": "NglN_3Gxwxm4"
   },
   "outputs": [],
   "source": [
    "train = pd.concat([train, pd.get_dummies(train[\"Embarked\"], prefix=\"embark_\")],1).drop([\"Name\",\"Ticket\",\"Cabin\",\"Embarked\"],1)\n",
    "train = pd.concat([train, pd.get_dummies(train[\"CabinCode\"], prefix=\"cabin_\")],1).drop(\"CabinCode\",1)"
   ]
  },
  {
   "cell_type": "code",
   "execution_count": 10,
   "metadata": {
    "colab": {},
    "colab_type": "code",
    "collapsed": true,
    "id": "Sc3XIRPo2VF3"
   },
   "outputs": [],
   "source": [
    "#scaling the data\n",
    "from sklearn.preprocessing import RobustScaler, MinMaxScaler, StandardScaler\n",
    "x_scaled = StandardScaler().fit_transform(train.drop(\"Survived\",1))"
   ]
  },
  {
   "cell_type": "code",
   "execution_count": 11,
   "metadata": {
    "colab": {},
    "colab_type": "code",
    "collapsed": true,
    "id": "nwIY_3Lux-OK"
   },
   "outputs": [],
   "source": [
    "X_train, X_test, y_train, y_test = train_test_split(x_scaled, train.Survived, test_size=0.2, stratify = train.Survived, \n",
    "                                                    random_state = SEED)"
   ]
  },
  {
   "cell_type": "code",
   "execution_count": 12,
   "metadata": {
    "collapsed": true
   },
   "outputs": [],
   "source": [
    "X_train, X_test_cv, y_train, y_test_cv = train_test_split(X_train, y_train, test_size=0.2, stratify = y_train, \n",
    "                                                          random_state = SEED)"
   ]
  },
  {
   "cell_type": "markdown",
   "metadata": {
    "colab_type": "text",
    "id": "0v8H8cuXCGN3"
   },
   "source": [
    "# LightGBM"
   ]
  },
  {
   "cell_type": "code",
   "execution_count": 13,
   "metadata": {
    "colab": {},
    "colab_type": "code",
    "id": "OSXqNfrUx7C5"
   },
   "outputs": [
    {
     "name": "stdout",
     "output_type": "stream",
     "text": [
      "Requirement already satisfied: lightgbm in c:\\users\\home\\anaconda3\\lib\\site-packages (2.1.2)\n",
      "Requirement already satisfied: scikit-learn in c:\\users\\home\\anaconda3\\lib\\site-packages (from lightgbm) (0.18.1)\n",
      "Requirement already satisfied: scipy in c:\\users\\home\\anaconda3\\lib\\site-packages (from lightgbm) (0.19.0)\n",
      "Requirement already satisfied: numpy in c:\\users\\home\\anaconda3\\lib\\site-packages (from lightgbm) (1.14.5)\n"
     ]
    }
   ],
   "source": [
    "!pip install lightgbm"
   ]
  },
  {
   "cell_type": "code",
   "execution_count": 14,
   "metadata": {
    "colab": {},
    "colab_type": "code",
    "collapsed": true,
    "id": "4rg2uVsiwmI1"
   },
   "outputs": [],
   "source": [
    "import lightgbm as lgb\n",
    "evals_result = {}\n",
    "param = {'num_leaves':3, 'num_trees':12000, 'objective':'binary', \"boosting\":\"dart\",\n",
    "         \"learning_rate\":0.001, \"max_depth\":3, \"max_bin\":50, \"min_data_in_leaf\":5,         \n",
    "         \"tree_learner\":\"feature\", \"verbose\":1, \"drop_rate\":0.1, \"xgboost_dart_mode\": True, \"predict_raw_score\":True,\n",
    "         \"sigmoid\" :1, \"seed\":SEED}\n",
    "param['metric'] = 'auc'\n",
    "train_data = lgb.Dataset(X_train, label=y_train)\n",
    "test_data = lgb.Dataset(X_test_cv, y_test_cv, reference=train_data)"
   ]
  },
  {
   "cell_type": "code",
   "execution_count": 15,
   "metadata": {
    "colab": {},
    "colab_type": "code",
    "id": "B89GUALeyNQu"
   },
   "outputs": [
    {
     "name": "stderr",
     "output_type": "stream",
     "text": [
      "C:\\Users\\Home\\Anaconda3\\lib\\site-packages\\lightgbm\\engine.py:102: UserWarning: Found `num_trees` in params. Will use it instead of argument\n",
      "  warnings.warn(\"Found `{}` in params. Will use it instead of argument\".format(alias))\n"
     ]
    },
    {
     "name": "stdout",
     "output_type": "stream",
     "text": [
      "[1000]\ttraining's auc: 0.88504\tvalid_1's auc: 0.837603\n",
      "[2000]\ttraining's auc: 0.900213\tvalid_1's auc: 0.866529\n",
      "[3000]\ttraining's auc: 0.903872\tvalid_1's auc: 0.876033\n",
      "[4000]\ttraining's auc: 0.903637\tvalid_1's auc: 0.874793\n",
      "[5000]\ttraining's auc: 0.911178\tvalid_1's auc: 0.872211\n",
      "[6000]\ttraining's auc: 0.913354\tvalid_1's auc: 0.871798\n",
      "[7000]\ttraining's auc: 0.917614\tvalid_1's auc: 0.873967\n",
      "[8000]\ttraining's auc: 0.919679\tvalid_1's auc: 0.873657\n",
      "[9000]\ttraining's auc: 0.920894\tvalid_1's auc: 0.877893\n",
      "[10000]\ttraining's auc: 0.921652\tvalid_1's auc: 0.883781\n",
      "[11000]\ttraining's auc: 0.923057\tvalid_1's auc: 0.883574\n",
      "[12000]\ttraining's auc: 0.924495\tvalid_1's auc: 0.878512\n"
     ]
    }
   ],
   "source": [
    "bst = lgb.train(param, train_data, evals_result = evals_result, verbose_eval = 1000,\n",
    "               valid_sets = [train_data, test_data])"
   ]
  },
  {
   "cell_type": "code",
   "execution_count": 16,
   "metadata": {
    "colab": {},
    "colab_type": "code",
    "id": "6hJ6knO6ySzl"
   },
   "outputs": [
    {
     "name": "stdout",
     "output_type": "stream",
     "text": [
      "Plot metrics recorded during training...\n"
     ]
    },
    {
     "data": {
      "image/png": "[encoded data removed]",
      "text/plain": [
       "<matplotlib.figure.Figure at 0x16da1f3e0b8>"
      ]
     },
     "metadata": {},
     "output_type": "display_data"
    },
    {
     "name": "stdout",
     "output_type": "stream",
     "text": [
      "Feature importances: [2129, 5188, 522, 453, 730, 5144, 7210, 0, 201, 294, 1181, 253, 587, 0, 108, 0, 0, 0, 0]\n"
     ]
    }
   ],
   "source": [
    "print('Plot metrics recorded during training...')\n",
    "ax = lgb.plot_metric(evals_result, metric='auc')\n",
    "plt.show()\n",
    "\n",
    "print('Feature importances:', list(bst.feature_importance()))"
   ]
  },
  {
   "cell_type": "code",
   "execution_count": 17,
   "metadata": {
    "colab": {},
    "colab_type": "code",
    "collapsed": true,
    "id": "6R1W0Fxd0cjR"
   },
   "outputs": [],
   "source": [
    "prediction = bst.predict(X_test, num_iteration=bst.best_iteration)"
   ]
  },
  {
   "cell_type": "code",
   "execution_count": 18,
   "metadata": {
    "colab": {},
    "colab_type": "code",
    "collapsed": true,
    "id": "IyeELeeJ0yRG"
   },
   "outputs": [],
   "source": [
    "pred = np.zeros(len(prediction))\n",
    "pred[prediction>0.4]=1"
   ]
  },
  {
   "cell_type": "code",
   "execution_count": 19,
   "metadata": {
    "colab": {},
    "colab_type": "code",
    "id": "IMM3jLnCyY0J"
   },
   "outputs": [
    {
     "data": {
      "text/plain": [
       "0.8100558659217877"
      ]
     },
     "execution_count": 19,
     "metadata": {},
     "output_type": "execute_result"
    }
   ],
   "source": [
    "from sklearn.metrics import accuracy_score\n",
    "accuracy_score(y_test,pred)"
   ]
  },
  {
   "cell_type": "markdown",
   "metadata": {
    "colab_type": "text",
    "id": "KnjwhTJlCMiA"
   },
   "source": [
    "# Other Models"
   ]
  },
  {
   "cell_type": "code",
   "execution_count": 20,
   "metadata": {
    "colab": {},
    "colab_type": "code",
    "collapsed": true,
    "id": "d3ttqQ5-1Gy0"
   },
   "outputs": [],
   "source": [
    "from __future__ import print_function\n",
    "from sklearn.svm import SVC, LinearSVC\n",
    "from sklearn.naive_bayes import GaussianNB\n",
    "from sklearn.ensemble import RandomForestClassifier, GradientBoostingClassifier\n",
    "from sklearn.linear_model import LogisticRegression, SGDClassifier\n",
    "from sklearn.neighbors import KNeighborsClassifier\n",
    "from sklearn.neural_network import MLPClassifier\n",
    "from sklearn.kernel_approximation import Nystroem\n",
    "from sklearn.kernel_approximation import RBFSampler\n",
    "from sklearn.pipeline import make_pipeline\n",
    "from sklearn.ensemble import AdaBoostClassifier\n",
    "from sklearn.ensemble import BaggingClassifier\n",
    "np.random.seed(SEED)\n",
    "\n",
    "def get_models():\n",
    "    \"\"\"Generate a library of base learners.\"\"\"\n",
    "    nb = GaussianNB()\n",
    "    svc = SVC(C=100, probability=True, random_state=SEED)\n",
    "    knn = KNeighborsClassifier(n_neighbors=3)\n",
    "    lr = LogisticRegression(C=100, random_state=SEED, warm_start= \"True\")\n",
    "    nn = MLPClassifier((10,10,10,10), learning_rate_init = 0.01,\n",
    "                       learning_rate = \"adaptive\", max_iter = 600,\n",
    "                       early_stopping=False, random_state=SEED)\n",
    "    gb = GradientBoostingClassifier(n_estimators=100, random_state=SEED)\n",
    "    sgdb = SGDClassifier(loss=\"log\", random_state=SEED)    \n",
    "    bagging = BaggingClassifier(gb, random_state=SEED)\n",
    "    rf = RandomForestClassifier(n_estimators=10, max_features=3, random_state=SEED)\n",
    "    ada = AdaBoostClassifier(base_estimator = gb, n_estimators = 50, random_state=SEED)\n",
    "    models = {\n",
    "             'knn': knn,\n",
    "             'naive bayes': nb,\n",
    "             \"svc\": svc,\n",
    "             'mlp-nn': nn,\n",
    "             'random forest': rf,\n",
    "             'gbm': gb,\n",
    "             \"bag\" : bagging,\n",
    "             \"sgdb\" : sgdb,\n",
    "             'logistic': lr,\n",
    "             'ada': ada              \n",
    "              }\n",
    "\n",
    "    return models\n",
    "\n",
    "\n",
    "def train_predict(model_list):\n",
    "    \"\"\"Fit models in list on training set and return preds\"\"\"\n",
    "    P = np.zeros((y_test.shape[0], len(model_list)))\n",
    "    P = pd.DataFrame(P)\n",
    "\n",
    "    print(\"Fitting models.\")\n",
    "    cols = list()\n",
    "    for i, (name, m) in enumerate(models.items()):\n",
    "        print(\"%s...\" % name, end=\" \")\n",
    "        m.fit(X_train, y_train)\n",
    "        P.iloc[:, i] = m.predict(X_test)\n",
    "        #[:, 1]\n",
    "        cols.append(name)\n",
    "        print(\"done\")\n",
    "\n",
    "    P.columns = cols\n",
    "    print(\"Done.\\n\")\n",
    "    return P\n",
    "\n",
    "\n",
    "def score_models(P, y):\n",
    "    \"\"\"Score model in prediction DF\"\"\"\n",
    "    print(\"Scoring models.\")\n",
    "    for m in P.columns:\n",
    "        score = accuracy_score(y, P.loc[:, m])\n",
    "        print(\"%-26s: %.3f\" % (m, score))\n",
    "    print(\"Done.\\n\")\n",
    "    "
   ]
  },
  {
   "cell_type": "code",
   "execution_count": 21,
   "metadata": {
    "colab": {},
    "colab_type": "code",
    "id": "0WykvP3Y1pWG"
   },
   "outputs": [
    {
     "name": "stdout",
     "output_type": "stream",
     "text": [
      "Fitting models.\n",
      "knn... done\n",
      "naive bayes... done\n",
      "svc... done\n",
      "mlp-nn... done\n",
      "random forest... done\n",
      "gbm... done\n",
      "bag... done\n",
      "sgdb... done\n",
      "logistic... done\n",
      "ada... done\n",
      "Done.\n",
      "\n",
      "Scoring models.\n",
      "knn                       : 0.737\n",
      "naive bayes               : 0.698\n",
      "svc                       : 0.810\n",
      "mlp-nn                    : 0.799\n",
      "random forest             : 0.771\n",
      "gbm                       : 0.804\n",
      "bag                       : 0.793\n",
      "sgdb                      : 0.682\n",
      "logistic                  : 0.810\n",
      "ada                       : 0.771\n",
      "Done.\n",
      "\n"
     ]
    }
   ],
   "source": [
    "models = get_models()\n",
    "P = train_predict(models)\n",
    "score_models(P, y_test)"
   ]
  },
  {
   "cell_type": "markdown",
   "metadata": {
    "colab_type": "text",
    "id": "Lssj7IyWCQzI"
   },
   "source": [
    "# DNN"
   ]
  },
  {
   "cell_type": "code",
   "execution_count": 22,
   "metadata": {
    "colab": {
     "base_uri": "https://localhost:8080/",
     "height": 34
    },
    "colab_type": "code",
    "collapsed": true,
    "id": "3wuk1hYD1tvZ",
    "outputId": "bfb210fd-adb4-4aee-a4f2-b45b39c645e0"
   },
   "outputs": [
    {
     "name": "stderr",
     "output_type": "stream",
     "text": [
      "C:\\Users\\Home\\Anaconda3\\lib\\site-packages\\h5py\\__init__.py:36: FutureWarning: Conversion of the second argument of issubdtype from `float` to `np.floating` is deprecated. In future, it will be treated as `np.float64 == np.dtype(float).type`.\n",
      "  from ._conv import register_converters as _register_converters\n",
      "Using TensorFlow backend.\n"
     ]
    }
   ],
   "source": [
    "# TensorFlow and tf.keras\n",
    "import tensorflow as tf\n",
    "from tensorflow import keras\n",
    "from keras.callbacks import EarlyStopping, ModelCheckpoint\n",
    "np.random.seed(SEED)"
   ]
  },
  {
   "cell_type": "code",
   "execution_count": 23,
   "metadata": {
    "colab": {},
    "colab_type": "code",
    "collapsed": true,
    "id": "7DlUVaYJ_LI2"
   },
   "outputs": [],
   "source": [
    "import matplotlib.pyplot as plt\n",
    "\n",
    "def plot_history(history):\n",
    "  plt.figure()\n",
    "  plt.xlabel('Epoch')\n",
    "  plt.ylabel('Accuracy')\n",
    "  plt.plot(history.epoch, np.array(history.history['acc']), \n",
    "           label='Train Accuracy')\n",
    "  plt.plot(history.epoch, np.array(history.history['val_acc']),\n",
    "           label = 'Val Accuracy')\n",
    "  plt.legend()\n",
    "  plt.ylim([0.6,0.950])"
   ]
  },
  {
   "cell_type": "code",
   "execution_count": 24,
   "metadata": {
    "colab": {},
    "colab_type": "code",
    "collapsed": true,
    "id": "40s4ZYmt30aq"
   },
   "outputs": [],
   "source": [
    "rate = 0.1\n",
    "\n",
    "model = keras.Sequential([keras.layers.Dense(10, input_dim = X_train.shape[1], activation=tf.nn.relu),\n",
    "                          keras.layers.Dropout(rate, noise_shape=None, seed=SEED),\n",
    "                          keras.layers.Dense(10, activation=tf.nn.relu),\n",
    "                          keras.layers.Dropout(rate, noise_shape=None, seed=SEED),\n",
    "                          keras.layers.Dense(10, activation=tf.nn.relu),\n",
    "                          keras.layers.Dropout(rate, noise_shape=None, seed=SEED),\n",
    "                          keras.layers.Dense(10, activation=tf.nn.relu),\n",
    "                          keras.layers.Dropout(rate, noise_shape=None, seed=SEED),\n",
    "                          keras.layers.Dense(10, activation=tf.nn.relu),\n",
    "                          keras.layers.Dropout(rate, noise_shape=None, seed=SEED),\n",
    "                          keras.layers.Dense(10, activation=tf.nn.relu),\n",
    "                          keras.layers.Dropout(rate, noise_shape=None, seed=SEED),\n",
    "                          keras.layers.Dense(1, activation=\"sigmoid\")    \n",
    "])"
   ]
  },
  {
   "cell_type": "code",
   "execution_count": 26,
   "metadata": {
    "colab": {},
    "colab_type": "code",
    "id": "kyQxbAzs34wI"
   },
   "outputs": [],
   "source": [
    "model.compile(optimizer= tf.train.GradientDescentOptimizer(learning_rate = 0.001), \n",
    "              loss='binary_crossentropy',\n",
    "              metrics=['accuracy'])"
   ]
  },
  {
   "cell_type": "code",
   "execution_count": 27,
   "metadata": {
    "collapsed": true
   },
   "outputs": [],
   "source": [
    "X_train, X_test, y_train, y_test = train_test_split(x_scaled, train.Survived, test_size=0.2, stratify = train.Survived,\n",
    "                                                   random_state=SEED)"
   ]
  },
  {
   "cell_type": "code",
   "execution_count": 29,
   "metadata": {
    "colab": {
     "base_uri": "https://localhost:8080/",
     "height": 71145
    },
    "colab_type": "code",
    "id": "TBUPEK9T3-Pq",
    "outputId": "49982b75-e1bb-4ba3-ffde-3ac2e866b478"
   },
   "outputs": [],
   "source": [
    "history = model.fit(X_train, y_train, epochs=1200, verbose=0, validation_split=0.2,shuffle=0)"
   ]
  },
  {
   "cell_type": "code",
   "execution_count": 30,
   "metadata": {
    "colab": {
     "base_uri": "https://localhost:8080/",
     "height": 282
    },
    "colab_type": "code",
    "id": "SSmqYZFPCpDD",
    "outputId": "a0a9ce58-4e3f-42f2-ab0b-03c8c8cc16c9"
   },
   "outputs": [
    {
     "data": {
      "image/png": "[encoded data removed]",
      "text/plain": [
       "<matplotlib.figure.Figure at 0x16dab476438>"
      ]
     },
     "metadata": {},
     "output_type": "display_data"
    }
   ],
   "source": [
    "plot_history(history)"
   ]
  }
 ],
 "metadata": {
  "accelerator": "GPU",
  "colab": {
   "collapsed_sections": [],
   "include_colab_link": true,
   "name": "Processing & Modeling.ipynb",
   "provenance": [],
   "version": "0.3.2"
  },
  "kernelspec": {
   "display_name": "Python 3",
   "language": "python",
   "name": "python3"
  },
  "language_info": {
   "codemirror_mode": {
    "name": "ipython",
    "version": 3
   },
   "file_extension": ".py",
   "mimetype": "text/x-python",
   "name": "python",
   "nbconvert_exporter": "python",
   "pygments_lexer": "ipython3",
   "version": "3.6.1"
  }
 },
 "nbformat": 4,
 "nbformat_minor": 1
}
